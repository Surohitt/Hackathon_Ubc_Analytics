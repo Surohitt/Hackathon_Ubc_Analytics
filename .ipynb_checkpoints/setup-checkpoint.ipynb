{
 "cells": [
  {
   "cell_type": "markdown",
   "metadata": {},
   "source": [
    "# Overview\n",
    "\n",
    "This notebook contains some initization work needed to run the other notebooks provided. In particular, it will ensure that the `canvasapi` python package is installed."
   ]
  },
  {
   "cell_type": "code",
   "execution_count": 1,
   "metadata": {},
   "outputs": [
    {
     "name": "stdout",
     "output_type": "stream",
     "text": [
      "Collecting canvasapi\n",
      "\u001b[?25l  Downloading https://files.pythonhosted.org/packages/3f/e2/20cd4eb74daf6390f00b08f22eb45ccc54ccf19cb094e0fe00c1cdcb2669/canvasapi-0.11.0.tar.gz (54kB)\n",
      "\u001b[K    100% |████████████████████████████████| 61kB 5.3MB/s ta 0:00:01\n",
      "\u001b[?25hRequirement already satisfied: pytz in /opt/conda/lib/python3.6/site-packages (from canvasapi) (2018.9)\n",
      "Requirement already satisfied: requests in /opt/conda/lib/python3.6/site-packages (from canvasapi) (2.21.0)\n",
      "Requirement already satisfied: six in /opt/conda/lib/python3.6/site-packages (from canvasapi) (1.12.0)\n",
      "Requirement already satisfied: chardet<3.1.0,>=3.0.2 in /opt/conda/lib/python3.6/site-packages (from requests->canvasapi) (3.0.4)\n",
      "Requirement already satisfied: certifi>=2017.4.17 in /opt/conda/lib/python3.6/site-packages (from requests->canvasapi) (2019.3.9)\n",
      "Requirement already satisfied: idna<2.9,>=2.5 in /opt/conda/lib/python3.6/site-packages (from requests->canvasapi) (2.8)\n",
      "Requirement already satisfied: urllib3<1.25,>=1.21.1 in /opt/conda/lib/python3.6/site-packages (from requests->canvasapi) (1.24.1)\n",
      "Building wheels for collected packages: canvasapi\n",
      "  Building wheel for canvasapi (setup.py) ... \u001b[?25ldone\n",
      "\u001b[?25h  Stored in directory: /home/jupyter/.cache/pip/wheels/c3/35/4d/1ffe601dd53f664fe7f6b3deb1b65a11ebf9bbf95ae5229db0\n",
      "Successfully built canvasapi\n",
      "Installing collected packages: canvasapi\n",
      "Successfully installed canvasapi-0.11.0\n"
     ]
    }
   ],
   "source": [
    "# Install a pip package in the current Jupyter kernel\n",
    "import sys\n",
    "!{sys.executable} -m pip install canvasapi"
   ]
  },
  {
   "cell_type": "code",
   "execution_count": null,
   "metadata": {},
   "outputs": [],
   "source": []
  }
 ],
 "metadata": {
  "kernelspec": {
   "display_name": "Python 3",
   "language": "python",
   "name": "python3"
  },
  "language_info": {
   "codemirror_mode": {
    "name": "ipython",
    "version": 3
   },
   "file_extension": ".py",
   "mimetype": "text/x-python",
   "name": "python",
   "nbconvert_exporter": "python",
   "pygments_lexer": "ipython3",
   "version": "3.6.8"
  }
 },
 "nbformat": 4,
 "nbformat_minor": 2
}
