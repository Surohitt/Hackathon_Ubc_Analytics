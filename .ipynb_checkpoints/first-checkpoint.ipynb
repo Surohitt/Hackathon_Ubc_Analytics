{
 "cells": [
  {
   "cell_type": "markdown",
   "metadata": {},
   "source": [
    "# Getting Started\n",
    "\n",
    "This first workbook will introduce several new concepts:\n",
    " * Cloning code from github\n",
    " * Jupyter notebooks\n",
    " * Working with syzygy\n",
    " * Accessing the Canvas API\n",
    " "
   ]
  },
  {
   "cell_type": "markdown",
   "metadata": {},
   "source": [
    "## Getting and running this code\n",
    "run this command to clone the git repository:\n",
    "\n",
    "    git clone <repo>\n",
    "\n",
    "There's a setup notebook you will need to run before this one (it's called setup).\n",
    "\n",
    "This notebook expects to find a file called `.canvas_api_key` that contains your API key (and nothing else). You will need to create that (in the same directory as this file) from the command line in jupyter.\n",
    "\n",
    "First, create a Canvas API key through Canvas.\n",
    "\n",
    "Second, save the API key to a file. from the jupyter hub page choose \"New\" and then \"Terminal\" to get an interactive terminal session. Use this command: \n",
    "\n",
    "    echo \"replace this with your Canvas API key\" >> .canvas_api_key"
   ]
  },
  {
   "cell_type": "markdown",
   "metadata": {},
   "source": [
    "## Working with Jupyter notebooks\n",
    "There's a great tutorial made available along with syzygy: https://intro.syzygy.ca\n",
    "\n",
    "If you've never used Jupyter notebooks before, that's a great place to get started.\n",
    "\n",
    "There are many shortcuts to make interacting with a notebook easier, for example you can run just the current cell (rather than re-running the entire notebook) with `shift + enter`"
   ]
  },
  {
   "cell_type": "markdown",
   "metadata": {},
   "source": [
    "## Working with the Canvas API\n",
    "\n",
    "This notebook is used to export data from Canvas. The data we export will be saved in `json` format.\n",
    "\n",
    "It contains examples using the `canvasapi` python package (thanks to UCF!). Most (but not all) API endpoints from Canvas are available in the `canvasapi` package.\n",
    "\n",
    "Useful links about the Canvas API:\n",
    " * https://github.com/ucfopen/canvasapi\n",
    " * https://canvas.instructure.com/doc/api/"
   ]
  },
  {
   "cell_type": "code",
   "execution_count": 1,
   "metadata": {},
   "outputs": [],
   "source": [
    "from canvasapi import Canvas\n",
    "import json"
   ]
  },
  {
   "cell_type": "code",
   "execution_count": 42,
   "metadata": {},
   "outputs": [
    {
     "ename": "SyntaxError",
     "evalue": "invalid syntax (<ipython-input-42-d400c8d9d995>, line 5)",
     "output_type": "error",
     "traceback": [
      "\u001b[0;36m  File \u001b[0;32m\"<ipython-input-42-d400c8d9d995>\"\u001b[0;36m, line \u001b[0;32m5\u001b[0m\n\u001b[0;31m    API_KEY= 11224~2jVSjluU1SAdknHsgd36w7GMsoXqxK13rvRKucHyaF9o0n6GynHft8r8Snl3Tn6q\u001b[0m\n\u001b[0m                  ^\u001b[0m\n\u001b[0;31mSyntaxError\u001b[0m\u001b[0;31m:\u001b[0m invalid syntax\n"
     ]
    }
   ],
   "source": [
    "#setup some global variables for the script\n",
    "\n",
    "# load API_KEY from a file\n",
    "# we doing this so that we can share this code without sharing our secret keys\n",
    "API_KEY= \"11224~2jVSjluU1SAdknHsgd36w7GMsoXqxK13rvRKucHyaF9o0n6GynHft8r8Snl3Tn6q\"\n",
    "API_URL = \"https://canvas.ubc.ca\"\n",
    "\n",
    "COURSE_NUM = 30739 # HackUBC course ID"
   ]
  },
  {
   "cell_type": "code",
   "execution_count": 4,
   "metadata": {},
   "outputs": [],
   "source": [
    "# Here we create the canvas python object, we use that to interact with the Canvas API\n",
    "canvas = Canvas(API_URL, API_KEY)"
   ]
  },
  {
   "cell_type": "code",
   "execution_count": 5,
   "metadata": {},
   "outputs": [
    {
     "name": "stdout",
     "output_type": "stream",
     "text": [
      "{\n",
      "    \"avatar_url\": \"https://canvas.ubc.ca/images/messages/avatar-50.png\",\n",
      "    \"created_at\": \"2017-09-11T13:39:19-07:00\",\n",
      "    \"effective_locale\": \"en-CA\",\n",
      "    \"id\": 47904,\n",
      "    \"locale\": null,\n",
      "    \"name\": \"Surohit Tandon\",\n",
      "    \"permissions\": {\n",
      "        \"can_update_avatar\": true,\n",
      "        \"can_update_name\": false\n",
      "    },\n",
      "    \"short_name\": \"Surohit Tandon\",\n",
      "    \"sortable_name\": \"Tandon, Surohit\"\n",
      "}\n"
     ]
    }
   ],
   "source": [
    "# this should print a json representation of your Canvas user information\n",
    "print(json.dumps(json.loads(canvas.get_user('self').to_json()),sort_keys=True, indent=4))"
   ]
  },
  {
   "cell_type": "markdown",
   "metadata": {},
   "source": [
    "## A note about Canvas discussions\n",
    "the API divides discussion content/posts into three different types:\n",
    "\n",
    "* `discussion topics`: The individual discussion forums\n",
    "* `discussion entries`: The top level entries in the discussion. Each is an original response to the discussion topic.\n",
    "* `discussion replies`: The response to each entry. In Canvas, these are displayed indented and nested under the corresponding discussion entry."
   ]
  },
  {
   "cell_type": "code",
   "execution_count": 7,
   "metadata": {},
   "outputs": [],
   "source": [
    "# get all the discussion topics\n",
    "\n",
    "# many methods of the Canvas API load data lazily (when needed)\n",
    "# to force retreival of all items, we can wrap the request in a list()\n",
    "all_topics = list(canvas.get_course(COURSE_NUM).get_discussion_topics())"
   ]
  },
  {
   "cell_type": "code",
   "execution_count": 8,
   "metadata": {},
   "outputs": [
    {
     "name": "stdout",
     "output_type": "stream",
     "text": [
      "What video games are you playing right now? 1\n",
      "Who likes potatoes on pizza? 8\n",
      "Favourite Eating Spots Near Campus? 3\n",
      "What do you choose?  13\n",
      "Learning Analytics Conference at UBC 1\n",
      "Hackathon Feedback 4\n",
      "What do you mean? 3\n",
      "What do you hear?  15\n",
      "What do you see? 20\n",
      "Let's Get Some Discussion Started 15\n",
      "Share your Canvas API ideas/discoveries. 0\n",
      "Hackathon Open Q&A  0\n",
      "Share things you can't do (based on technical limitations) that you wish you could. 0\n",
      "Share any difficulties/ask for help from other teams. 0\n"
     ]
    }
   ],
   "source": [
    "# print all the discussion topic names and their total number of posts\n",
    "for t in all_topics:\n",
    "    print(t.title, t.discussion_subentry_count)\n",
    "    #note, this is the *full* number of posts in the topic\n"
   ]
  },
  {
   "cell_type": "code",
   "execution_count": 9,
   "metadata": {},
   "outputs": [
    {
     "name": "stdout",
     "output_type": "stream",
     "text": [
      "What do you see? 19\n"
     ]
    }
   ],
   "source": [
    "# print all the posts in the largest discussion\n",
    "\n",
    "largest = sorted(all_topics, key=lambda x: x.discussion_subentry_count, reverse=True)[0]\n",
    "\n",
    "print (largest.title, len(list(largest.get_topic_entries())))\n",
    "#note: this is only the *top-level* entries in the discussion, \n",
    "# not all replies to those entries"
   ]
  },
  {
   "cell_type": "code",
   "execution_count": 10,
   "metadata": {},
   "outputs": [
    {
     "name": "stdout",
     "output_type": "stream",
     "text": [
      "total number of top-level entries:  69\n"
     ]
    }
   ],
   "source": [
    "# get all the top-level entries\n",
    "# notice that this is different from the number of posts above\n",
    "all_entries = []\n",
    "for t in all_topics:\n",
    "    topic_entries = list(t.get_topic_entries())\n",
    "    all_entries.extend(topic_entries)\n",
    "print(\"total number of top-level entries: \", len(all_entries))"
   ]
  },
  {
   "cell_type": "code",
   "execution_count": 11,
   "metadata": {},
   "outputs": [
    {
     "name": "stdout",
     "output_type": "stream",
     "text": [
      "total number of replies:  14\n"
     ]
    }
   ],
   "source": [
    "# get all the replies\n",
    "# again, notice that this is different from the number of posts above\n",
    "all_replies = []\n",
    "for e in all_entries:\n",
    "    entry_replies = list(e.get_replies())\n",
    "    all_replies.extend(entry_replies)\n",
    "print(\"total number of replies: \",len(all_replies))"
   ]
  },
  {
   "cell_type": "code",
   "execution_count": 12,
   "metadata": {},
   "outputs": [
    {
     "name": "stdout",
     "output_type": "stream",
     "text": [
      "<p>Blue and black</p> (784514) 0\n",
      "<p>Black and Blue</p> (784505) 0\n",
      "<p>A dress</p> (784493) 0\n",
      "<p>Blue and Gold</p> (784481) 0\n",
      "<p>White and gold.</p> (784413) 0\n",
      "<p>white &amp; gold</p> (784397) 0\n",
      "<p>white and gold</p> (784394) 0\n",
      "<p>black and blue</p> (784390) 0\n",
      "<p>Blue and Black!</p> (784389) 0\n",
      "<p>White and gold</p> (784386) 0\n",
      "<p>White and Gold</p> (784385) 0\n",
      "<p>Blue and black</p> (784369) 0\n",
      "Blue and gold (784341) 0\n",
      "<p>I see black and blue</p>\n",
      "<p> </p> (783321) 0\n",
      "<p>blue and black</p> (783314) 0\n",
      "<p>Blue  and black</p> (783269) 0\n",
      "<p>White and gold</p> (783101) 0\n",
      "<p>White and Gold!</p> (782893) 0\n",
      "Blue and black  (774674) 1\n"
     ]
    }
   ],
   "source": [
    "# get the number of replies for a each discussion entry\n",
    "for topic in largest.get_topic_entries():\n",
    "  print(topic, len(list(topic.get_replies())))"
   ]
  },
  {
   "cell_type": "code",
   "execution_count": 13,
   "metadata": {},
   "outputs": [
    {
     "name": "stdout",
     "output_type": "stream",
     "text": [
      "{\n",
      "    \"id\": 259702,\n",
      "    \"title\": \"What do you see?\",\n",
      "    \"last_reply_at\": \"2019-03-30T17:24:28Z\",\n",
      "    \"created_at\": \"2019-03-19T19:57:55Z\",\n",
      "    \"delayed_post_at\": null,\n",
      "    \"posted_at\": \"2019-03-22T17:35:26Z\",\n",
      "    \"assignment_id\": null,\n",
      "    \"root_topic_id\": null,\n",
      "    \"position\": null,\n",
      "    \"podcast_has_student_posts\": false,\n",
      "    \"discussion_type\": \"side_comment\",\n",
      "    \"lock_at\": null,\n",
      "    \"allow_rating\": false,\n",
      "    \"only_graders_can_rate\": false,\n",
      "    \"sort_by_rating\": false,\n",
      "    \"is_section_specific\": false,\n",
      "    \"user_name\": \"Alison Myers\",\n",
      "    \"discussion_subentry_count\": 20,\n",
      "    \"permissions\": {\n",
      "        \"attach\": false,\n",
      "        \"update\": false,\n",
      "        \"reply\": true,\n",
      "        \"delete\": false\n",
      "    },\n",
      "    \"require_initial_post\": null,\n",
      "    \"user_can_see_posts\": true,\n",
      "    \"podcast_url\": null,\n",
      "    \"read_state\": \"read\",\n",
      "    \"unread_count\": 18,\n",
      "    \"subscribed\": false,\n",
      "    \"topic_children\": [],\n",
      "    \"group_topic_children\": [],\n",
      "    \"attachments\": [],\n",
      "    \"published\": true,\n",
      "    \"can_unpublish\": false,\n",
      "    \"locked\": false,\n",
      "    \"can_lock\": true,\n",
      "    \"comments_disabled\": false,\n",
      "    \"author\": {\n",
      "        \"id\": 185698,\n",
      "        \"display_name\": \"Alison Myers\",\n",
      "        \"avatar_image_url\": \"https://canvas.ubc.ca/images/thumbnails/3669192/YXnVaQagy3XGZe4L8gPKNGfx93AqbMQpidngGFKi\",\n",
      "        \"html_url\": \"https://canvas.ubc.ca/courses/30739/users/185698\"\n",
      "    },\n",
      "    \"html_url\": \"https://canvas.ubc.ca/courses/30739/discussion_topics/259702\",\n",
      "    \"url\": \"https://canvas.ubc.ca/courses/30739/discussion_topics/259702\",\n",
      "    \"pinned\": false,\n",
      "    \"group_category_id\": null,\n",
      "    \"can_group\": false,\n",
      "    \"locked_for_user\": false,\n",
      "    \"message\": \"<p><a href=\\\"https://en.wikipedia.org/wiki/The_dress\\\">https://en.wikipedia.org/wiki/The_dress</a></p>\\r\\n<p>\\u00a0</p>\",\n",
      "    \"todo_date\": null,\n",
      "    \"course_id\": 30739\n",
      "}\n"
     ]
    }
   ],
   "source": [
    "# this is an example of how we can 'pretty print' the json representation of an object\n",
    "# in this case, we are printing the details of the largest discussion topic\n",
    "print(json.dumps(json.loads(largest.to_json()),indent=4))"
   ]
  },
  {
   "cell_type": "code",
   "execution_count": 14,
   "metadata": {},
   "outputs": [],
   "source": [
    "# here we are saving all the discussion data to .json files\n",
    "# you can open these files from the jupyter hub to examine their contents\n",
    "# or you can interactively explore the python objects from within this notebook\n",
    "with open('all_topics.json', 'w') as f:\n",
    "    json.dump(list(map(lambda x: json.loads(x.to_json()), all_topics)), f)\n",
    "    #json.dump(all_topics, f)\n",
    "\n",
    "with open('all_entries.json', 'w') as f:\n",
    "    json.dump(list(map(lambda x: json.loads(x.to_json()), all_entries)), f)\n",
    "\n",
    "with open('all_replies.json', 'w') as f:\n",
    "    json.dump(list(map(lambda x: json.loads(x.to_json()), all_replies)), f)\n"
   ]
  },
  {
   "cell_type": "markdown",
   "metadata": {},
   "source": [
    "## What next?\n",
    "\n",
    "Create some additional cells below here (or above!) and try to interact with some of the results from the Canvas API.\n",
    "\n",
    "Some things to try:\n",
    " * Extract just your username from the Canvas `get_user` api\n",
    " * Print all the details of a specific discussion topic, entry, or reply\n",
    " * Find all the topics/entires/replies that you made\n",
    " * Find every reply to a specific user (such as yourself)\n",
    " * Look at the documentation and try using a different API endpoint"
   ]
  },
  {
   "cell_type": "code",
   "execution_count": 17,
   "metadata": {},
   "outputs": [
    {
     "data": {
      "text/plain": [
       "'https://canvas.ubc.ca/images/messages/avatar-50.png'"
      ]
     },
     "execution_count": 17,
     "metadata": {},
     "output_type": "execute_result"
    }
   ],
   "source": [
    "canvas.get_user('self').avatar_url"
   ]
  },
  {
   "cell_type": "code",
   "execution_count": 25,
   "metadata": {},
   "outputs": [],
   "source": [
    "topics_in = list(canvas.get_course(COURSE_NUM).get_discussion_topics())"
   ]
  },
  {
   "cell_type": "code",
   "execution_count": 41,
   "metadata": {},
   "outputs": [
    {
     "name": "stdout",
     "output_type": "stream",
     "text": [
      "/n <p>The stair case entrance upstairs is locked and a few participants aren't sure how to get in. Is there another entrance?</p> (784404)\n",
      "/n <p>Have a land acknowledgement at the beginning of the Hackathon.</p> (783338)\n"
     ]
    }
   ],
   "source": [
    "for top in topics_in[5].get_topic_entries():\n",
    "    print (\"/n\",top)"
   ]
  },
  {
   "cell_type": "code",
   "execution_count": null,
   "metadata": {},
   "outputs": [],
   "source": []
  }
 ],
 "metadata": {
  "kernelspec": {
   "display_name": "Python 3",
   "language": "python",
   "name": "python3"
  },
  "language_info": {
   "codemirror_mode": {
    "name": "ipython",
    "version": 3
   },
   "file_extension": ".py",
   "mimetype": "text/x-python",
   "name": "python",
   "nbconvert_exporter": "python",
   "pygments_lexer": "ipython3",
   "version": "3.6.8"
  }
 },
 "nbformat": 4,
 "nbformat_minor": 2
}
