{
 "cells": [
  {
   "cell_type": "markdown",
   "metadata": {},
   "source": [
    "# Data manipulation\n",
    "In this second notebook, we are going to clean up and manipulate the data we exported from Canvas in the first workbook.\n",
    "\n",
    "We will start with loading the data we exported in the first workbook, and looking at the dictionary keys associated with each discussion post type."
   ]
  },
  {
   "cell_type": "markdown",
   "metadata": {},
   "source": [
    "## Load the data"
   ]
  },
  {
   "cell_type": "code",
   "execution_count": 380,
   "metadata": {},
   "outputs": [],
   "source": [
    "import pandas as pd\n",
    "import json\n",
    "\n",
    "with open('all_topics.json', 'r') as f:\n",
    "    all_topics = json.load(f)\n",
    "\n",
    "with open('all_entries.json', 'r') as f:\n",
    "    all_entries = json.load(f)\n",
    "\n",
    "with open('all_replies.json', 'r') as f:\n",
    "    all_replies = json.load(f)"
   ]
  },
  {
   "cell_type": "markdown",
   "metadata": {},
   "source": [
    "# Explore the data\n",
    "\n",
    "If you haven't already, try printing some data from one of more of the discussion posts."
   ]
  },
  {
   "cell_type": "code",
   "execution_count": 381,
   "metadata": {},
   "outputs": [
    {
     "data": {
      "text/plain": [
       "dict_keys(['id', 'title', 'last_reply_at', 'created_at', 'delayed_post_at', 'posted_at', 'assignment_id', 'root_topic_id', 'position', 'podcast_has_student_posts', 'discussion_type', 'lock_at', 'allow_rating', 'only_graders_can_rate', 'sort_by_rating', 'is_section_specific', 'user_name', 'discussion_subentry_count', 'permissions', 'require_initial_post', 'user_can_see_posts', 'podcast_url', 'read_state', 'unread_count', 'subscribed', 'topic_children', 'group_topic_children', 'attachments', 'published', 'can_unpublish', 'locked', 'can_lock', 'comments_disabled', 'author', 'html_url', 'url', 'pinned', 'group_category_id', 'can_group', 'locked_for_user', 'message', 'todo_date', 'course_id'])"
      ]
     },
     "execution_count": 381,
     "metadata": {},
     "output_type": "execute_result"
    }
   ],
   "source": [
    "all_topics[0].keys()"
   ]
  },
  {
   "cell_type": "code",
   "execution_count": 382,
   "metadata": {},
   "outputs": [],
   "source": [
    "All_Keys = list(all_topics[0].keys())"
   ]
  },
  {
   "cell_type": "code",
   "execution_count": 383,
   "metadata": {},
   "outputs": [
    {
     "data": {
      "text/plain": [
       "dict_keys(['id', 'user_id', 'parent_id', 'created_at', 'updated_at', 'rating_count', 'rating_sum', 'user_name', 'message', 'user', 'read_state', 'forced_read_state', 'discussion_id', 'course_id'])"
      ]
     },
     "execution_count": 383,
     "metadata": {},
     "output_type": "execute_result"
    }
   ],
   "source": [
    "all_entries[0].keys()"
   ]
  },
  {
   "cell_type": "code",
   "execution_count": 384,
   "metadata": {},
   "outputs": [
    {
     "data": {
      "text/plain": [
       "dict_keys(['id', 'user_id', 'parent_id', 'created_at', 'updated_at', 'rating_count', 'rating_sum', 'user_name', 'message', 'user', 'read_state', 'forced_read_state', 'discussion_id', 'course_id'])"
      ]
     },
     "execution_count": 384,
     "metadata": {},
     "output_type": "execute_result"
    }
   ],
   "source": [
    "all_replies[0].keys()"
   ]
  },
  {
   "cell_type": "code",
   "execution_count": 385,
   "metadata": {},
   "outputs": [
    {
     "name": "stdout",
     "output_type": "stream",
     "text": [
      "Will Zhang <p>...</p>\n",
      "Jerry Liu \n",
      "Ju Hee Park \n",
      "Bruce Zhao <p>I'm playing Sekiro.</p>\n",
      "Dhruv Mahajan \n",
      "Abigail Climacosa <p>What are your top 3 food spots on/near campus?</p>\n",
      "Alison Myers <p>Ketchup or mustard? You must pick one. Defend your choice! </p>\r\n",
      "<p>If you disagree with one of your peers, respond. </p>\r\n",
      "<p>(P.s. general - be a reasonable human applies here, be respectful, this is for fun)</p>\n",
      "William Engle <p>If you're interested in learning analytics - there's a conference at UBC in June: <a href=\"https://solaresearch.org/events/lasi/lasi19/\">https://solaresearch.org/events/lasi/lasi19/</a></p>\r\n",
      "<p>Students get their membership for free (UBC is an institutional member) and can apply for scholarships for registration. Scholarships apply only to PhD students.</p>\n",
      "Erica Commons \n",
      "Alison Myers <p><iframe src=\"https://www.youtube.com/embed/DK_0jXPuIr0\" width=\"560\" height=\"315\" allowfullscreen=\"allowfullscreen\" allow=\"accelerometer; autoplay; encrypted-media; gyroscope; picture-in-picture\"></iframe></p>\n",
      "Alison Myers <p><iframe src=\"https://www.youtube.com/embed/DdvN4WqJh6g\" width=\"560\" height=\"315\" allowfullscreen=\"allowfullscreen\" allow=\"accelerometer; autoplay; encrypted-media; gyroscope; picture-in-picture\"></iframe></p>\n",
      "Alison Myers <p><a href=\"https://en.wikipedia.org/wiki/The_dress\">https://en.wikipedia.org/wiki/The_dress</a></p>\r\n",
      "<p> </p>\n",
      "None <p>Use this as a space to introduce yourselves. </p>\n",
      "<ul>\n",
      "<li>What brought you here?</li>\n",
      "<li>What skills will you bring to the hackathon?</li>\n",
      "<li>What skills would you like to learn?</li>\n",
      "<li>Any initial project ideas?</li>\n",
      "</ul>\n",
      "None <p>Use this forum to share what you are doing, your ideas, or anything else you may want to collaborate on with the rest of the teams.</p>\n",
      "None <p>Have a general question, ask here!</p>\n",
      "None <p>Use this to discuss any shortcomings of the Canvas API that you would like to share. Data that you can't access due to your role as student, data that is not accessible at all etc.</p>\n",
      "<ul>\n",
      "<li style=\"font-weight: 400;\"><span style=\"font-weight: 400;\">There’s no reference in the API docs to this feature, but it would be useful to have</span></li>\n",
      "<li style=\"font-weight: 400;\"><span style=\"font-weight: 400;\">This is an existing, documented feature, but it’s not available to the student role</span></li>\n",
      "</ul>\n",
      "None <p>Is there something you think is technically possible but you just don't have the ability to do it? Are there questions you are struggling with that you think another person or team can help with? Ask those questions here.</p>\n",
      "<p>P.S. The Hackathon Team won't necessarily be monitoring this section, it is more for participants to discuss issues. But please come talk to the Hackathon team if you are having trouble and we will try to help if we can!</p>\n"
     ]
    }
   ],
   "source": [
    "for topic in all_topics:\n",
    "    print(topic['user_name'], topic['message'])"
   ]
  },
  {
   "cell_type": "markdown",
   "metadata": {},
   "source": [
    "## Discussion content\n",
    "There's more information than we really need in some of these discussion posts, so let's extact only the data elements that are of interest. I've pre-selected a few here, but or remove as you like."
   ]
  },
  {
   "cell_type": "code",
   "execution_count": 494,
   "metadata": {},
   "outputs": [],
   "source": [
    "keys_to_keep = ['user_name', 'created_at', 'message', 'discussion_id', 'id', 'parent_id', 'discussion_type']\n"
   ]
  },
  {
   "cell_type": "code",
   "execution_count": 495,
   "metadata": {},
   "outputs": [
    {
     "name": "stdout",
     "output_type": "stream",
     "text": [
      "[{'user_name': 'Will Zhang', 'created_at': '2019-03-30T18:58:43Z', 'message': '<p>...</p>', 'discussion_id': None, 'id': 265853, 'parent_id': None, 'discussion_type': 'side_comment'}, {'user_name': 'Jerry Liu', 'created_at': '2019-03-30T18:02:49Z', 'message': '', 'discussion_id': None, 'id': 265842, 'parent_id': None, 'discussion_type': 'side_comment'}, {'user_name': 'Ju Hee Park', 'created_at': '2019-03-30T18:01:08Z', 'message': '', 'discussion_id': None, 'id': 265840, 'parent_id': None, 'discussion_type': 'side_comment'}, {'user_name': 'Bruce Zhao', 'created_at': '2019-03-30T17:15:36Z', 'message': \"<p>I'm playing Sekiro.</p>\", 'discussion_id': None, 'id': 265828, 'parent_id': None, 'discussion_type': 'side_comment'}, {'user_name': 'Dhruv Mahajan', 'created_at': '2019-03-30T17:07:28Z', 'message': '', 'discussion_id': None, 'id': 265827, 'parent_id': None, 'discussion_type': 'side_comment'}, {'user_name': 'Abigail Climacosa', 'created_at': '2019-03-30T17:07:12Z', 'message': '<p>What are your top 3 food spots on/near campus?</p>', 'discussion_id': None, 'id': 265826, 'parent_id': None, 'discussion_type': 'threaded'}, {'user_name': 'Alison Myers', 'created_at': '2019-03-30T15:47:13Z', 'message': '<p>Ketchup or mustard? You must pick one. Defend your choice!\\xa0</p>\\r\\n<p>If you disagree with one of your peers, respond.\\xa0</p>\\r\\n<p>(P.s. general - be a reasonable human applies here, be respectful, this is for fun)</p>', 'discussion_id': None, 'id': 265808, 'parent_id': None, 'discussion_type': 'threaded'}, {'user_name': 'William Engle', 'created_at': '2019-03-30T15:24:38Z', 'message': '<p>If you\\'re interested in learning analytics - there\\'s a conference at UBC in June: <a href=\"https://solaresearch.org/events/lasi/lasi19/\">https://solaresearch.org/events/lasi/lasi19/</a></p>\\r\\n<p>Students get their membership for free (UBC is an institutional member) and can apply for scholarships for registration. Scholarships apply only to PhD students.</p>', 'discussion_id': None, 'id': 265804, 'parent_id': None, 'discussion_type': 'side_comment'}, {'user_name': 'Erica Commons', 'created_at': '2019-03-29T23:21:47Z', 'message': '', 'discussion_id': None, 'id': 265697, 'parent_id': None, 'discussion_type': 'threaded'}, {'user_name': 'Alison Myers', 'created_at': '2019-03-19T20:16:46Z', 'message': '<p><iframe src=\"https://www.youtube.com/embed/DK_0jXPuIr0\" width=\"560\" height=\"315\" allowfullscreen=\"allowfullscreen\" allow=\"accelerometer; autoplay; encrypted-media; gyroscope; picture-in-picture\"></iframe></p>', 'discussion_id': None, 'id': 259726, 'parent_id': None, 'discussion_type': 'threaded'}, {'user_name': 'Alison Myers', 'created_at': '2019-03-19T19:59:35Z', 'message': '<p><iframe src=\"https://www.youtube.com/embed/DdvN4WqJh6g\" width=\"560\" height=\"315\" allowfullscreen=\"allowfullscreen\" allow=\"accelerometer; autoplay; encrypted-media; gyroscope; picture-in-picture\"></iframe></p>', 'discussion_id': None, 'id': 259704, 'parent_id': None, 'discussion_type': 'threaded'}, {'user_name': 'Alison Myers', 'created_at': '2019-03-19T19:57:55Z', 'message': '<p><a href=\"https://en.wikipedia.org/wiki/The_dress\">https://en.wikipedia.org/wiki/The_dress</a></p>\\r\\n<p>\\xa0</p>', 'discussion_id': None, 'id': 259702, 'parent_id': None, 'discussion_type': 'side_comment'}, {'user_name': None, 'created_at': '2019-03-19T18:48:50Z', 'message': '<p>Use this as a space to introduce yourselves.\\xa0</p>\\n<ul>\\n<li>What brought you here?</li>\\n<li>What skills will you bring to the hackathon?</li>\\n<li>What skills would you like to learn?</li>\\n<li>Any initial project ideas?</li>\\n</ul>', 'discussion_id': None, 'id': 259571, 'parent_id': None, 'discussion_type': 'threaded'}, {'user_name': None, 'created_at': '2019-03-19T18:48:50Z', 'message': '<p>Use this forum to share what you are doing, your ideas, or anything else you may want to collaborate on with the rest of the teams.</p>', 'discussion_id': None, 'id': 259570, 'parent_id': None, 'discussion_type': 'threaded'}, {'user_name': None, 'created_at': '2019-03-19T18:48:50Z', 'message': '<p>Have a general question, ask here!</p>', 'discussion_id': None, 'id': 259569, 'parent_id': None, 'discussion_type': 'threaded'}, {'user_name': None, 'created_at': '2019-03-19T18:48:50Z', 'message': '<p>Use this to discuss any shortcomings of the Canvas API that you would like to share. Data that you can\\'t access due to your role as student, data that is not accessible at all etc.</p>\\n<ul>\\n<li style=\"font-weight: 400;\"><span style=\"font-weight: 400;\">There’s no reference in the API docs to this feature, but it would be useful to have</span></li>\\n<li style=\"font-weight: 400;\"><span style=\"font-weight: 400;\">This is an existing, documented feature, but it’s not available to the student role</span></li>\\n</ul>', 'discussion_id': None, 'id': 259568, 'parent_id': None, 'discussion_type': 'threaded'}, {'user_name': None, 'created_at': '2019-03-19T18:48:50Z', 'message': \"<p>Is there something you think is technically possible but you just don't have the ability to do it? Are there questions you are struggling with that you think another person or team can help with? Ask those questions here.</p>\\n<p>P.S. The Hackathon Team won't necessarily be monitoring this section, it is more for participants to discuss issues. But please come talk to the Hackathon team if you are having trouble and we will try to help if we can!</p>\", 'discussion_id': None, 'id': 259567, 'parent_id': None, 'discussion_type': 'threaded'}]\n"
     ]
    }
   ],
   "source": [
    "reduced_topics = []\n",
    "for topic in all_topics:\n",
    "    reduced_topics.append({k: topic.get(k, None) for k in keys_to_keep})\n",
    "print(reduced_topics)"
   ]
  },
  {
   "cell_type": "code",
   "execution_count": 496,
   "metadata": {},
   "outputs": [],
   "source": [
    "reduced_entries = []\n",
    "for entry in all_entries:\n",
    "    reduced_entries.append({k: entry.get(k, None) for k in keys_to_keep})"
   ]
  },
  {
   "cell_type": "code",
   "execution_count": 497,
   "metadata": {},
   "outputs": [
    {
     "name": "stdout",
     "output_type": "stream",
     "text": [
      "[{'user_name': 'Jerry Liu', 'created_at': '2019-03-30T18:27:49Z', 'message': '<p>testing reply</p>', 'discussion_id': 265842, 'id': 784631, 'parent_id': 784624, 'discussion_type': None}, {'user_name': 'Tianzong Chen', 'created_at': '2019-03-30T18:36:57Z', 'message': '<p>Same</p>', 'discussion_id': 265840, 'id': 784650, 'parent_id': 784633, 'discussion_type': None}, {'user_name': 'Shuai Wang', 'created_at': '2019-03-30T17:16:07Z', 'message': '<p>would this reply make a difference ?\\xa0</p>', 'discussion_id': 265827, 'id': 784496, 'parent_id': 784494, 'discussion_type': None}, {'user_name': 'Eduardo Muntaner Garcia', 'created_at': '2019-03-30T18:34:27Z', 'message': '<p>U r dum</p>', 'discussion_id': 265808, 'id': 784644, 'parent_id': 784429, 'discussion_type': None}, {'user_name': 'William Engle', 'created_at': '2019-03-30T16:26:21Z', 'message': '<p>I sometimes put mustard on fries (it can be good)!</p>', 'discussion_id': 265808, 'id': 784432, 'parent_id': 784395, 'discussion_type': None}, {'user_name': 'Michelle Gu', 'created_at': '2019-03-30T16:10:39Z', 'message': '<p>Take the elevator</p>', 'discussion_id': 265697, 'id': 784410, 'parent_id': 784404, 'discussion_type': None}, {'user_name': 'William Engle', 'created_at': '2019-03-30T15:28:42Z', 'message': '<p>Thanks! That was a good call and something that is important.</p>', 'discussion_id': 265697, 'id': 784368, 'parent_id': 783338, 'discussion_type': None}, {'user_name': 'Alison Myers', 'created_at': '2019-03-30T01:52:41Z', 'message': 'Very good point. Thank you.\\xa0', 'discussion_id': 259726, 'id': 783557, 'parent_id': 783277, 'discussion_type': None}, {'user_name': 'Towela Tembo', 'created_at': '2019-03-30T17:58:12Z', 'message': '<p>Laurel!</p>', 'discussion_id': 259704, 'id': 784582, 'parent_id': 783093, 'discussion_type': None}, {'user_name': 'Towela Tembo', 'created_at': '2019-03-30T17:57:56Z', 'message': '<p>Laurel!</p>', 'discussion_id': 259704, 'id': 784581, 'parent_id': 782889, 'discussion_type': None}, {'user_name': 'Luanna Lin', 'created_at': '2019-03-30T17:45:31Z', 'message': '<p>me too :)</p>', 'discussion_id': 259702, 'id': 784555, 'parent_id': 784514, 'discussion_type': None}, {'user_name': 'Eduardo Muntaner Garcia', 'created_at': '2019-03-27T18:50:11Z', 'message': '<p>White and gold.</p>', 'discussion_id': 259702, 'id': 778268, 'parent_id': 774674, 'discussion_type': None}, {'user_name': 'Estella Wang', 'created_at': '2019-03-30T21:09:09Z', 'message': '<p>@</p>\\n<h2 class=\"discussion-title\" role=\"heading\" aria-level=\"2\"><a class=\"author student_context_card_trigger\" title=\"Author\\'s name\" href=\"https://canvas.ubc.ca/courses/30739/users/60563\" data-student_id=\"60563\" data-course_id=\"30739\" data-bypass=\"\">Patricia Varao Sousa</a></h2>', 'discussion_id': 259571, 'id': 784872, 'parent_id': 784864, 'discussion_type': None}, {'user_name': 'Estella Wang', 'created_at': '2019-03-30T21:06:19Z', 'message': '<p>fff</p>', 'discussion_id': 259571, 'id': 784864, 'parent_id': 784863, 'discussion_type': None}, {'user_name': 'Estella Wang', 'created_at': '2019-03-30T21:06:06Z', 'message': '<p>good</p>', 'discussion_id': 259571, 'id': 784863, 'parent_id': 784440, 'discussion_type': None}, {'user_name': 'Kristo Krugger', 'created_at': '2019-03-30T16:10:13Z', 'message': '<p>Hi Alison, what would you say some of the limitations of using Tableau are?</p>', 'discussion_id': 259571, 'id': 784409, 'parent_id': 783568, 'discussion_type': None}, {'user_name': 'William Engle', 'created_at': '2019-03-30T15:39:36Z', 'message': \"<p>Hi Winnie,</p>\\n<p>I graduated from Slais (UBC's school of Library and Information Studies) and it's great to see some Library/Information Science folks here! I work at the Centre for Teaching, Learning &amp; Technology is a strategist for open education initiatives and will be generally helping out (and co-hosting the design thinking workshop on Friday).</p>\", 'discussion_id': 259571, 'id': 784372, 'parent_id': 784343, 'discussion_type': None}, {'user_name': 'Winnie LI', 'created_at': '2019-03-30T14:24:41Z', 'message': 'Hi Alison, I am Winnie, a graduate student in library and information studies. In my previous employment, I used QlikView and QlikSense to do data visualization as my previous company chose to buy Qlik instead of Tableau. I am looking forward to learning Tableau.', 'discussion_id': 259571, 'id': 784343, 'parent_id': 783568, 'discussion_type': None}, {'user_name': 'Firas Moosvi', 'created_at': '2019-03-29T21:38:31Z', 'message': '<p>Hi Kofi ! Look forward to having you there</p>', 'discussion_id': 259571, 'id': 783105, 'parent_id': 782900, 'discussion_type': None}, {'user_name': 'Firas Moosvi', 'created_at': '2019-03-29T21:38:05Z', 'message': '<p>Cute panda!</p>', 'discussion_id': 259571, 'id': 783104, 'parent_id': 761405, 'discussion_type': None}, {'user_name': 'Alison Myers', 'created_at': '2019-03-19T19:20:15Z', 'message': '<p>a second reply to the original post</p>', 'discussion_id': 259571, 'id': 759078, 'parent_id': 759075, 'discussion_type': None}, {'user_name': 'Alison Myers', 'created_at': '2019-03-19T19:20:06Z', 'message': '<p>and again, replying to a reply. to myself.</p>', 'discussion_id': 259571, 'id': 759077, 'parent_id': 759076, 'discussion_type': None}, {'user_name': 'Alison Myers', 'created_at': '2019-03-19T19:19:55Z', 'message': '<p>Here I am replying to myself.</p>', 'discussion_id': 259571, 'id': 759076, 'parent_id': 759075, 'discussion_type': None}]\n"
     ]
    }
   ],
   "source": [
    "reduced_replies = []\n",
    "for topic in all_replies:\n",
    "    reduced_replies.append({k: topic.get(k, None) for k in keys_to_keep})\n",
    "print(reduced_replies)"
   ]
  },
  {
   "cell_type": "markdown",
   "metadata": {},
   "source": [
    "## Merging data\n",
    "\n",
    "now that we've extacted common keys from the three discussion post types, we can group them together into one data structure"
   ]
  },
  {
   "cell_type": "code",
   "execution_count": 498,
   "metadata": {},
   "outputs": [],
   "source": [
    "all_posts = reduced_topics+reduced_entries+reduced_replies"
   ]
  },
  {
   "cell_type": "markdown",
   "metadata": {},
   "source": [
    "## Pandas\n",
    "\n",
    "docs: http://pandas.pydata.org/pandas-docs/stable/\n",
    "\n",
    "We are going to create a dataframe from the list-of-dictionaries data that we have.\n",
    "\n",
    "A dataframe is a table-like data structure that allows for powerful row-wise or column-wise slicing, dicing, or aggregating"
   ]
  },
  {
   "cell_type": "code",
   "execution_count": 499,
   "metadata": {},
   "outputs": [],
   "source": [
    "df = pd.DataFrame(all_posts)\n",
    "df.to_csv('all_posts.csv', header=True, index=False)"
   ]
  },
  {
   "cell_type": "code",
   "execution_count": 500,
   "metadata": {},
   "outputs": [
    {
     "data": {
      "text/html": [
       "<div>\n",
       "<style scoped>\n",
       "    .dataframe tbody tr th:only-of-type {\n",
       "        vertical-align: middle;\n",
       "    }\n",
       "\n",
       "    .dataframe tbody tr th {\n",
       "        vertical-align: top;\n",
       "    }\n",
       "\n",
       "    .dataframe thead th {\n",
       "        text-align: right;\n",
       "    }\n",
       "</style>\n",
       "<table border=\"1\" class=\"dataframe\">\n",
       "  <thead>\n",
       "    <tr style=\"text-align: right;\">\n",
       "      <th></th>\n",
       "      <th>created_at</th>\n",
       "      <th>discussion_id</th>\n",
       "      <th>discussion_type</th>\n",
       "      <th>id</th>\n",
       "      <th>message</th>\n",
       "      <th>parent_id</th>\n",
       "      <th>user_name</th>\n",
       "    </tr>\n",
       "  </thead>\n",
       "  <tbody>\n",
       "    <tr>\n",
       "      <th>56</th>\n",
       "      <td>2019-03-30T18:27:20Z</td>\n",
       "      <td>259704.0</td>\n",
       "      <td>None</td>\n",
       "      <td>784630</td>\n",
       "      <td>&lt;p&gt;Both&lt;/p&gt;</td>\n",
       "      <td>NaN</td>\n",
       "      <td>Daniel Liu</td>\n",
       "    </tr>\n",
       "    <tr>\n",
       "      <th>57</th>\n",
       "      <td>2019-03-30T18:25:20Z</td>\n",
       "      <td>259704.0</td>\n",
       "      <td>None</td>\n",
       "      <td>784622</td>\n",
       "      <td>&lt;p&gt;Yanny &lt;/p&gt;</td>\n",
       "      <td>NaN</td>\n",
       "      <td>Tianzong Chen</td>\n",
       "    </tr>\n",
       "    <tr>\n",
       "      <th>58</th>\n",
       "      <td>2019-03-30T17:44:25Z</td>\n",
       "      <td>259704.0</td>\n",
       "      <td>None</td>\n",
       "      <td>784551</td>\n",
       "      <td>&lt;p&gt;I heard Laurel!&lt;/p&gt;</td>\n",
       "      <td>NaN</td>\n",
       "      <td>Luanna Lin</td>\n",
       "    </tr>\n",
       "    <tr>\n",
       "      <th>59</th>\n",
       "      <td>2019-03-30T16:12:01Z</td>\n",
       "      <td>259704.0</td>\n",
       "      <td>None</td>\n",
       "      <td>784415</td>\n",
       "      <td>&lt;p&gt;Yanny&lt;/p&gt;</td>\n",
       "      <td>NaN</td>\n",
       "      <td>Michelle Gu</td>\n",
       "    </tr>\n",
       "    <tr>\n",
       "      <th>60</th>\n",
       "      <td>2019-03-30T16:10:48Z</td>\n",
       "      <td>259704.0</td>\n",
       "      <td>None</td>\n",
       "      <td>784411</td>\n",
       "      <td>&lt;p&gt;Laurel.&lt;/p&gt;</td>\n",
       "      <td>NaN</td>\n",
       "      <td>Munkhtur Myagmar</td>\n",
       "    </tr>\n",
       "    <tr>\n",
       "      <th>61</th>\n",
       "      <td>2019-03-30T16:07:57Z</td>\n",
       "      <td>259704.0</td>\n",
       "      <td>None</td>\n",
       "      <td>784402</td>\n",
       "      <td>&lt;p&gt;Laurel&lt;/p&gt;</td>\n",
       "      <td>NaN</td>\n",
       "      <td>Patricia Varao Sousa</td>\n",
       "    </tr>\n",
       "    <tr>\n",
       "      <th>62</th>\n",
       "      <td>2019-03-30T16:07:46Z</td>\n",
       "      <td>259704.0</td>\n",
       "      <td>None</td>\n",
       "      <td>784401</td>\n",
       "      <td>Yanny</td>\n",
       "      <td>NaN</td>\n",
       "      <td>Winnie LI</td>\n",
       "    </tr>\n",
       "    <tr>\n",
       "      <th>63</th>\n",
       "      <td>2019-03-30T16:01:07Z</td>\n",
       "      <td>259704.0</td>\n",
       "      <td>None</td>\n",
       "      <td>784392</td>\n",
       "      <td>&lt;p&gt;Laurel!&lt;/p&gt;</td>\n",
       "      <td>NaN</td>\n",
       "      <td>Brooke Dai</td>\n",
       "    </tr>\n",
       "    <tr>\n",
       "      <th>64</th>\n",
       "      <td>2019-03-30T15:59:33Z</td>\n",
       "      <td>259704.0</td>\n",
       "      <td>None</td>\n",
       "      <td>784388</td>\n",
       "      <td>&lt;p&gt;Yanny &lt;/p&gt;</td>\n",
       "      <td>NaN</td>\n",
       "      <td>Cindy Cen</td>\n",
       "    </tr>\n",
       "    <tr>\n",
       "      <th>65</th>\n",
       "      <td>2019-03-30T15:59:01Z</td>\n",
       "      <td>259704.0</td>\n",
       "      <td>None</td>\n",
       "      <td>784387</td>\n",
       "      <td>&lt;p&gt;Laurel&lt;/p&gt;</td>\n",
       "      <td>NaN</td>\n",
       "      <td>Harrison Lee</td>\n",
       "    </tr>\n",
       "    <tr>\n",
       "      <th>66</th>\n",
       "      <td>2019-03-30T15:04:34Z</td>\n",
       "      <td>259704.0</td>\n",
       "      <td>None</td>\n",
       "      <td>784356</td>\n",
       "      <td>&lt;p&gt;Yanny!&lt;/p&gt;</td>\n",
       "      <td>NaN</td>\n",
       "      <td>Surohit Tandon</td>\n",
       "    </tr>\n",
       "    <tr>\n",
       "      <th>67</th>\n",
       "      <td>2019-03-30T06:35:32Z</td>\n",
       "      <td>259704.0</td>\n",
       "      <td>None</td>\n",
       "      <td>784058</td>\n",
       "      <td>&lt;p&gt;Laurel?&lt;/p&gt;</td>\n",
       "      <td>NaN</td>\n",
       "      <td>Farbod Chamanian</td>\n",
       "    </tr>\n",
       "    <tr>\n",
       "      <th>68</th>\n",
       "      <td>2019-03-30T06:05:17Z</td>\n",
       "      <td>259704.0</td>\n",
       "      <td>None</td>\n",
       "      <td>783997</td>\n",
       "      <td>&lt;p&gt;LAUREL LAUREL LAUREL... who is LAUREL?&lt;/p&gt;</td>\n",
       "      <td>NaN</td>\n",
       "      <td>Michael Oliver</td>\n",
       "    </tr>\n",
       "    <tr>\n",
       "      <th>69</th>\n",
       "      <td>2019-03-30T04:01:41Z</td>\n",
       "      <td>259704.0</td>\n",
       "      <td>None</td>\n",
       "      <td>783763</td>\n",
       "      <td>&lt;p&gt;Laurel&lt;/p&gt;</td>\n",
       "      <td>NaN</td>\n",
       "      <td>James Shen</td>\n",
       "    </tr>\n",
       "    <tr>\n",
       "      <th>70</th>\n",
       "      <td>2019-03-29T22:50:24Z</td>\n",
       "      <td>259704.0</td>\n",
       "      <td>None</td>\n",
       "      <td>783264</td>\n",
       "      <td>&lt;p&gt;&lt;em&gt;Laurel&lt;/em&gt;&lt;/p&gt;</td>\n",
       "      <td>NaN</td>\n",
       "      <td>Ao Lin Gong</td>\n",
       "    </tr>\n",
       "    <tr>\n",
       "      <th>71</th>\n",
       "      <td>2019-03-29T21:35:58Z</td>\n",
       "      <td>259704.0</td>\n",
       "      <td>None</td>\n",
       "      <td>783093</td>\n",
       "      <td>&lt;p&gt;Laurel&lt;/p&gt;</td>\n",
       "      <td>NaN</td>\n",
       "      <td>Ju Hee Park</td>\n",
       "    </tr>\n",
       "    <tr>\n",
       "      <th>72</th>\n",
       "      <td>2019-03-29T20:13:48Z</td>\n",
       "      <td>259704.0</td>\n",
       "      <td>None</td>\n",
       "      <td>782889</td>\n",
       "      <td>&lt;p&gt;Yanny!&lt;/p&gt;</td>\n",
       "      <td>NaN</td>\n",
       "      <td>Kofi Buahin</td>\n",
       "    </tr>\n",
       "    <tr>\n",
       "      <th>73</th>\n",
       "      <td>2019-03-27T18:50:25Z</td>\n",
       "      <td>259704.0</td>\n",
       "      <td>None</td>\n",
       "      <td>778269</td>\n",
       "      <td>&lt;p&gt;Yanny!&lt;/p&gt;</td>\n",
       "      <td>NaN</td>\n",
       "      <td>Eduardo Muntaner Garcia</td>\n",
       "    </tr>\n",
       "    <tr>\n",
       "      <th>111</th>\n",
       "      <td>2019-03-30T17:58:12Z</td>\n",
       "      <td>259704.0</td>\n",
       "      <td>None</td>\n",
       "      <td>784582</td>\n",
       "      <td>&lt;p&gt;Laurel!&lt;/p&gt;</td>\n",
       "      <td>783093.0</td>\n",
       "      <td>Towela Tembo</td>\n",
       "    </tr>\n",
       "    <tr>\n",
       "      <th>112</th>\n",
       "      <td>2019-03-30T17:57:56Z</td>\n",
       "      <td>259704.0</td>\n",
       "      <td>None</td>\n",
       "      <td>784581</td>\n",
       "      <td>&lt;p&gt;Laurel!&lt;/p&gt;</td>\n",
       "      <td>782889.0</td>\n",
       "      <td>Towela Tembo</td>\n",
       "    </tr>\n",
       "  </tbody>\n",
       "</table>\n",
       "</div>"
      ],
      "text/plain": [
       "               created_at  discussion_id discussion_type      id  \\\n",
       "56   2019-03-30T18:27:20Z       259704.0            None  784630   \n",
       "57   2019-03-30T18:25:20Z       259704.0            None  784622   \n",
       "58   2019-03-30T17:44:25Z       259704.0            None  784551   \n",
       "59   2019-03-30T16:12:01Z       259704.0            None  784415   \n",
       "60   2019-03-30T16:10:48Z       259704.0            None  784411   \n",
       "61   2019-03-30T16:07:57Z       259704.0            None  784402   \n",
       "62   2019-03-30T16:07:46Z       259704.0            None  784401   \n",
       "63   2019-03-30T16:01:07Z       259704.0            None  784392   \n",
       "64   2019-03-30T15:59:33Z       259704.0            None  784388   \n",
       "65   2019-03-30T15:59:01Z       259704.0            None  784387   \n",
       "66   2019-03-30T15:04:34Z       259704.0            None  784356   \n",
       "67   2019-03-30T06:35:32Z       259704.0            None  784058   \n",
       "68   2019-03-30T06:05:17Z       259704.0            None  783997   \n",
       "69   2019-03-30T04:01:41Z       259704.0            None  783763   \n",
       "70   2019-03-29T22:50:24Z       259704.0            None  783264   \n",
       "71   2019-03-29T21:35:58Z       259704.0            None  783093   \n",
       "72   2019-03-29T20:13:48Z       259704.0            None  782889   \n",
       "73   2019-03-27T18:50:25Z       259704.0            None  778269   \n",
       "111  2019-03-30T17:58:12Z       259704.0            None  784582   \n",
       "112  2019-03-30T17:57:56Z       259704.0            None  784581   \n",
       "\n",
       "                                           message  parent_id  \\\n",
       "56                                     <p>Both</p>        NaN   \n",
       "57                                   <p>Yanny </p>        NaN   \n",
       "58                          <p>I heard Laurel!</p>        NaN   \n",
       "59                                    <p>Yanny</p>        NaN   \n",
       "60                                  <p>Laurel.</p>        NaN   \n",
       "61                                   <p>Laurel</p>        NaN   \n",
       "62                                           Yanny        NaN   \n",
       "63                                  <p>Laurel!</p>        NaN   \n",
       "64                                   <p>Yanny </p>        NaN   \n",
       "65                                   <p>Laurel</p>        NaN   \n",
       "66                                   <p>Yanny!</p>        NaN   \n",
       "67                                  <p>Laurel?</p>        NaN   \n",
       "68   <p>LAUREL LAUREL LAUREL... who is LAUREL?</p>        NaN   \n",
       "69                                   <p>Laurel</p>        NaN   \n",
       "70                          <p><em>Laurel</em></p>        NaN   \n",
       "71                                   <p>Laurel</p>        NaN   \n",
       "72                                   <p>Yanny!</p>        NaN   \n",
       "73                                   <p>Yanny!</p>        NaN   \n",
       "111                                 <p>Laurel!</p>   783093.0   \n",
       "112                                 <p>Laurel!</p>   782889.0   \n",
       "\n",
       "                   user_name  \n",
       "56                Daniel Liu  \n",
       "57             Tianzong Chen  \n",
       "58                Luanna Lin  \n",
       "59               Michelle Gu  \n",
       "60          Munkhtur Myagmar  \n",
       "61      Patricia Varao Sousa  \n",
       "62                 Winnie LI  \n",
       "63                Brooke Dai  \n",
       "64                 Cindy Cen  \n",
       "65              Harrison Lee  \n",
       "66            Surohit Tandon  \n",
       "67          Farbod Chamanian  \n",
       "68            Michael Oliver  \n",
       "69                James Shen  \n",
       "70               Ao Lin Gong  \n",
       "71               Ju Hee Park  \n",
       "72               Kofi Buahin  \n",
       "73   Eduardo Muntaner Garcia  \n",
       "111             Towela Tembo  \n",
       "112             Towela Tembo  "
      ]
     },
     "execution_count": 500,
     "metadata": {},
     "output_type": "execute_result"
    }
   ],
   "source": [
    "# select only the rows of the dataframe from a particular discussion\n",
    "df[df['discussion_id']==259704]"
   ]
  },
  {
   "cell_type": "code",
   "execution_count": 501,
   "metadata": {},
   "outputs": [
    {
     "data": {
      "text/plain": [
       "0                   Will Zhang\n",
       "1                    Jerry Liu\n",
       "2                  Ju Hee Park\n",
       "3                   Bruce Zhao\n",
       "4                Dhruv Mahajan\n",
       "5            Abigail Climacosa\n",
       "6                 Alison Myers\n",
       "7                William Engle\n",
       "8                Erica Commons\n",
       "9                 Alison Myers\n",
       "10                Alison Myers\n",
       "11                Alison Myers\n",
       "12                        None\n",
       "13                        None\n",
       "14                        None\n",
       "15                        None\n",
       "16                        None\n",
       "17                  Will Zhang\n",
       "18                   Jerry Liu\n",
       "19               Alexandra Gil\n",
       "20                  Daniel Liu\n",
       "21                   Jerry Liu\n",
       "22           Abigail Climacosa\n",
       "23                 Nakul Gupta\n",
       "24              Dong-Tao Zhang\n",
       "25                  Shuai Wang\n",
       "26                  Bruce Zhao\n",
       "27        Patricia Varao Sousa\n",
       "28           Abigail Climacosa\n",
       "29                Gagan Bhatia\n",
       "                ...           \n",
       "96        Patricia Varao Sousa\n",
       "97              Surohit Tandon\n",
       "98                Alison Myers\n",
       "99                 Kofi Buahin\n",
       "100                 Justin Lee\n",
       "101                 Justin Lee\n",
       "102               Alison Myers\n",
       "103                  Jerry Liu\n",
       "104              Tianzong Chen\n",
       "105                 Shuai Wang\n",
       "106    Eduardo Muntaner Garcia\n",
       "107              William Engle\n",
       "108                Michelle Gu\n",
       "109              William Engle\n",
       "110               Alison Myers\n",
       "111               Towela Tembo\n",
       "112               Towela Tembo\n",
       "113                 Luanna Lin\n",
       "114    Eduardo Muntaner Garcia\n",
       "115               Estella Wang\n",
       "116               Estella Wang\n",
       "117               Estella Wang\n",
       "118             Kristo Krugger\n",
       "119              William Engle\n",
       "120                  Winnie LI\n",
       "121               Firas Moosvi\n",
       "122               Firas Moosvi\n",
       "123               Alison Myers\n",
       "124               Alison Myers\n",
       "125               Alison Myers\n",
       "Name: user_name, Length: 126, dtype: object"
      ]
     },
     "execution_count": 501,
     "metadata": {},
     "output_type": "execute_result"
    }
   ],
   "source": [
    "# select only one column from the dataframe\n",
    "df['user_name']"
   ]
  },
  {
   "cell_type": "code",
   "execution_count": 502,
   "metadata": {},
   "outputs": [
    {
     "data": {
      "text/plain": [
       "56                  Daniel Liu\n",
       "57               Tianzong Chen\n",
       "58                  Luanna Lin\n",
       "59                 Michelle Gu\n",
       "60            Munkhtur Myagmar\n",
       "61        Patricia Varao Sousa\n",
       "62                   Winnie LI\n",
       "63                  Brooke Dai\n",
       "64                   Cindy Cen\n",
       "65                Harrison Lee\n",
       "66              Surohit Tandon\n",
       "67            Farbod Chamanian\n",
       "68              Michael Oliver\n",
       "69                  James Shen\n",
       "70                 Ao Lin Gong\n",
       "71                 Ju Hee Park\n",
       "72                 Kofi Buahin\n",
       "73     Eduardo Muntaner Garcia\n",
       "111               Towela Tembo\n",
       "112               Towela Tembo\n",
       "Name: user_name, dtype: object"
      ]
     },
     "execution_count": 502,
     "metadata": {},
     "output_type": "execute_result"
    }
   ],
   "source": [
    "# combining the above, we can get a listing of just the user names from a particular discussion\n",
    "df[df['discussion_id']==259704]['user_name']"
   ]
  },
  {
   "cell_type": "markdown",
   "metadata": {},
   "source": [
    "### Aggregating in Pandas\n",
    "Here we are going to print the total number of discussion topics/entries/replies for each user."
   ]
  },
  {
   "cell_type": "code",
   "execution_count": 503,
   "metadata": {},
   "outputs": [
    {
     "name": "stdout",
     "output_type": "stream",
     "text": [
      "                  user_name  count\n",
      "0              Alison Myers     10\n",
      "1             William Engle      6\n",
      "2      Patricia Varao Sousa      5\n",
      "3                Shuai Wang      5\n",
      "4               Nakul Gupta      4\n",
      "5                 Jerry Liu      4\n",
      "6         Abigail Climacosa      4\n",
      "7                 Winnie LI      4\n",
      "8   Eduardo Muntaner Garcia      4\n",
      "9            Kristo Krugger      3\n",
      "10               Bruce Zhao      3\n",
      "11             Estella Wang      3\n",
      "12            Alexandra Gil      3\n",
      "13              Michelle Gu      3\n",
      "14           Surohit Tandon      3\n",
      "15            Tianzong Chen      3\n",
      "16              Ao Lin Gong      3\n",
      "17               Daniel Liu      3\n",
      "18               James Shen      3\n",
      "19             Towela Tembo      3\n",
      "20         Munkhtur Myagmar      3\n",
      "21              Ju Hee Park      3\n",
      "22              Kofi Buahin      3\n",
      "23               Luanna Lin      2\n",
      "24                Cindy Cen      2\n",
      "25            Aaron Ngu Ngu      2\n",
      "26         Farbod Chamanian      2\n",
      "27               Brooke Dai      2\n",
      "28            Erica Commons      2\n",
      "29           Michael Oliver      2\n",
      "30             Firas Moosvi      2\n",
      "31               Will Zhang      2\n",
      "32            Dhruv Mahajan      2\n",
      "33               Justin Lee      2\n",
      "34             Harrison Lee      2\n",
      "35   Javier Sarria Bastidas      1\n",
      "36                  Roy Shi      1\n",
      "37                 Leqi Wan      1\n",
      "38                Xindi Wei      1\n",
      "39                 Peter Ko      1\n",
      "40                Yilin Wei      1\n",
      "41           Dong-Tao Zhang      1\n",
      "42             Gagan Bhatia      1\n",
      "43            Aliya Mohamed      1\n"
     ]
    }
   ],
   "source": [
    "posts_per_user = df['user_name'].value_counts().reset_index()\n",
    "posts_per_user.columns = ['user_name', 'count']\n",
    "posts_per_user.to_csv('posts_per_user.csv', header=True, index=False)\n",
    "print(posts_per_user)"
   ]
  },
  {
   "cell_type": "markdown",
   "metadata": {},
   "source": [
    "## What next?\n",
    "\n",
    "Try doing some more data exploration and manipulation!\n",
    "\n",
    "Here are some ideas:\n",
    "\n",
    "* Use pandas to find all your discussion posts\n",
    "* Use pandas to count the number of entries/replies in each discussion topic\n",
    "* Count the number of posts by day\n",
    "* Extract the message contents and count certain words"
   ]
  },
  {
   "cell_type": "code",
   "execution_count": 504,
   "metadata": {},
   "outputs": [
    {
     "data": {
      "text/html": [
       "<div>\n",
       "<style scoped>\n",
       "    .dataframe tbody tr th:only-of-type {\n",
       "        vertical-align: middle;\n",
       "    }\n",
       "\n",
       "    .dataframe tbody tr th {\n",
       "        vertical-align: top;\n",
       "    }\n",
       "\n",
       "    .dataframe thead th {\n",
       "        text-align: right;\n",
       "    }\n",
       "</style>\n",
       "<table border=\"1\" class=\"dataframe\">\n",
       "  <thead>\n",
       "    <tr style=\"text-align: right;\">\n",
       "      <th></th>\n",
       "      <th>created_at</th>\n",
       "      <th>discussion_id</th>\n",
       "      <th>discussion_type</th>\n",
       "      <th>id</th>\n",
       "      <th>message</th>\n",
       "      <th>parent_id</th>\n",
       "      <th>user_name</th>\n",
       "    </tr>\n",
       "  </thead>\n",
       "  <tbody>\n",
       "    <tr>\n",
       "      <th>52</th>\n",
       "      <td>2019-03-30T16:09:02Z</td>\n",
       "      <td>265697.0</td>\n",
       "      <td>None</td>\n",
       "      <td>784404</td>\n",
       "      <td>&lt;p&gt;The stair case entrance upstairs is locked ...</td>\n",
       "      <td>NaN</td>\n",
       "      <td>Surohit Tandon</td>\n",
       "    </tr>\n",
       "    <tr>\n",
       "      <th>66</th>\n",
       "      <td>2019-03-30T15:04:34Z</td>\n",
       "      <td>259704.0</td>\n",
       "      <td>None</td>\n",
       "      <td>784356</td>\n",
       "      <td>&lt;p&gt;Yanny!&lt;/p&gt;</td>\n",
       "      <td>NaN</td>\n",
       "      <td>Surohit Tandon</td>\n",
       "    </tr>\n",
       "    <tr>\n",
       "      <th>97</th>\n",
       "      <td>2019-03-30T15:08:21Z</td>\n",
       "      <td>259571.0</td>\n",
       "      <td>None</td>\n",
       "      <td>784357</td>\n",
       "      <td>&lt;p&gt;Hey all, my name is Surohit Tandon.I am exc...</td>\n",
       "      <td>NaN</td>\n",
       "      <td>Surohit Tandon</td>\n",
       "    </tr>\n",
       "  </tbody>\n",
       "</table>\n",
       "</div>"
      ],
      "text/plain": [
       "              created_at  discussion_id discussion_type      id  \\\n",
       "52  2019-03-30T16:09:02Z       265697.0            None  784404   \n",
       "66  2019-03-30T15:04:34Z       259704.0            None  784356   \n",
       "97  2019-03-30T15:08:21Z       259571.0            None  784357   \n",
       "\n",
       "                                              message  parent_id  \\\n",
       "52  <p>The stair case entrance upstairs is locked ...        NaN   \n",
       "66                                      <p>Yanny!</p>        NaN   \n",
       "97  <p>Hey all, my name is Surohit Tandon.I am exc...        NaN   \n",
       "\n",
       "         user_name  \n",
       "52  Surohit Tandon  \n",
       "66  Surohit Tandon  \n",
       "97  Surohit Tandon  "
      ]
     },
     "execution_count": 504,
     "metadata": {},
     "output_type": "execute_result"
    }
   ],
   "source": [
    "df[df.user_name == \"Surohit Tandon\"]"
   ]
  },
  {
   "cell_type": "code",
   "execution_count": 553,
   "metadata": {},
   "outputs": [],
   "source": [
    "All_Keys = [ 'title','posted_at', 'author'\n",
    "            ,'user_name', 'created_at', 'message', 'discussion_id','user_id']"
   ]
  },
  {
   "cell_type": "code",
   "execution_count": 554,
   "metadata": {},
   "outputs": [],
   "source": [
    "reduced_topics2 = []\n",
    "for topic in all_topics:\n",
    "    reduced_topics2.append({k: topic.get(k, None) for k in All_Keys})\n"
   ]
  },
  {
   "cell_type": "code",
   "execution_count": 555,
   "metadata": {},
   "outputs": [],
   "source": [
    "reduced_entries2 = []\n",
    "for entry in all_entries:\n",
    "    reduced_entries2.append({k: entry.get(k, None) for k in All_Keys})"
   ]
  },
  {
   "cell_type": "code",
   "execution_count": 556,
   "metadata": {},
   "outputs": [],
   "source": [
    "reduced_replies2 = []\n",
    "for topic in all_replies:\n",
    "    reduced_replies2.append({k: topic.get(k, None) for k in All_Keys})\n"
   ]
  },
  {
   "cell_type": "code",
   "execution_count": 557,
   "metadata": {},
   "outputs": [],
   "source": [
    "all_posts2 = reduced_topics2+reduced_entries2+reduced_replies2"
   ]
  },
  {
   "cell_type": "code",
   "execution_count": 558,
   "metadata": {},
   "outputs": [],
   "source": [
    "df2 = pd.DataFrame(all_posts2)\n",
    "df2.to_csv('all_posts2.csv', header=True, index=False)"
   ]
  },
  {
   "cell_type": "code",
   "execution_count": 559,
   "metadata": {},
   "outputs": [],
   "source": [
    "numbs = df2.shape[0]"
   ]
  },
  {
   "cell_type": "code",
   "execution_count": 570,
   "metadata": {},
   "outputs": [
    {
     "data": {
      "text/plain": [
       " 259702.0    23\n",
       " 259704.0    20\n",
       " 259571.0    19\n",
       "NaN          17\n",
       " 265808.0    15\n",
       " 265827.0     9\n",
       " 265826.0     6\n",
       " 265840.0     4\n",
       " 265697.0     4\n",
       " 259726.0     3\n",
       " 265842.0     2\n",
       " 265828.0     2\n",
       " 265853.0     1\n",
       " 265804.0     1\n",
       "Name: discussion_id, dtype: int64"
      ]
     },
     "execution_count": 570,
     "metadata": {},
     "output_type": "execute_result"
    }
   ],
   "source": [
    "df2.discussion_id.value_counts(dropna=False)"
   ]
  },
  {
   "cell_type": "code",
   "execution_count": 571,
   "metadata": {
    "scrolled": true
   },
   "outputs": [
    {
     "data": {
      "text/plain": [
       "[{'id': 14655,\n",
       "  'display_name': 'Will Zhang',\n",
       "  'avatar_image_url': 'https://canvas.ubc.ca/images/messages/avatar-50.png',\n",
       "  'html_url': 'https://canvas.ubc.ca/courses/30739/users/14655'},\n",
       " {'id': 42040,\n",
       "  'display_name': 'Jerry Liu',\n",
       "  'avatar_image_url': 'https://canvas.ubc.ca/images/messages/avatar-50.png',\n",
       "  'html_url': 'https://canvas.ubc.ca/courses/30739/users/42040'},\n",
       " {'id': 12463,\n",
       "  'display_name': 'Ju Hee Park',\n",
       "  'avatar_image_url': 'https://canvas.ubc.ca/images/messages/avatar-50.png',\n",
       "  'html_url': 'https://canvas.ubc.ca/courses/30739/users/12463'},\n",
       " {'id': 215503,\n",
       "  'display_name': 'Bruce Zhao',\n",
       "  'avatar_image_url': 'https://canvas.ubc.ca/images/messages/avatar-50.png',\n",
       "  'html_url': 'https://canvas.ubc.ca/courses/30739/users/215503'},\n",
       " {'id': 46719,\n",
       "  'display_name': 'Dhruv Mahajan',\n",
       "  'avatar_image_url': 'https://canvas.ubc.ca/images/messages/avatar-50.png',\n",
       "  'html_url': 'https://canvas.ubc.ca/courses/30739/users/46719'},\n",
       " {'id': 15854,\n",
       "  'display_name': 'Abigail Climacosa',\n",
       "  'avatar_image_url': 'https://canvas.ubc.ca/images/messages/avatar-50.png',\n",
       "  'html_url': 'https://canvas.ubc.ca/courses/30739/users/15854'},\n",
       " {'id': 185698,\n",
       "  'display_name': 'Alison Myers',\n",
       "  'avatar_image_url': 'https://canvas.ubc.ca/images/thumbnails/3669192/YXnVaQagy3XGZe4L8gPKNGfx93AqbMQpidngGFKi',\n",
       "  'html_url': 'https://canvas.ubc.ca/courses/30739/users/185698'},\n",
       " {'id': 9814,\n",
       "  'display_name': 'William Engle',\n",
       "  'avatar_image_url': 'https://canvas.ubc.ca/images/thumbnails/162417/MTiUtXEAqsjRGjuxUwTzy12CYZKE7QBER72E5qtK',\n",
       "  'html_url': 'https://canvas.ubc.ca/courses/30739/users/9814'},\n",
       " {'id': 118474,\n",
       "  'display_name': 'Erica Commons',\n",
       "  'avatar_image_url': 'https://canvas.ubc.ca/images/thumbnails/1888216/K2OqlnqVrKLHkWkyknVyKvDBFbiXF5Lg3ZFvd8C6',\n",
       "  'html_url': 'https://canvas.ubc.ca/courses/30739/users/118474'}]"
      ]
     },
     "execution_count": 571,
     "metadata": {},
     "output_type": "execute_result"
    }
   ],
   "source": [
    "author_ids = []\n",
    "for n in range(numbs):\n",
    "    ids = df2.author[n]\n",
    "    author_ids.append(ids)\n",
    "    del author_ids[9:]\n",
    "author_ids"
   ]
  },
  {
   "cell_type": "code",
   "execution_count": 572,
   "metadata": {},
   "outputs": [
    {
     "data": {
      "text/plain": [
       "[14655, 42040, 12463, 215503, 46719, 15854, 185698, 9814, 118474]"
      ]
     },
     "execution_count": 572,
     "metadata": {},
     "output_type": "execute_result"
    }
   ],
   "source": [
    "author_ids_nums = []\n",
    "for i in range(9):\n",
    "    author_ids_nums.append(author_ids[i]['id'])\n",
    "author_ids_nums"
   ]
  },
  {
   "cell_type": "code",
   "execution_count": 576,
   "metadata": {},
   "outputs": [
    {
     "name": "stdout",
     "output_type": "stream",
     "text": [
      "NaN          17\n",
      " 185698.0     6\n",
      " 218007.0     5\n",
      " 60563.0      5\n",
      " 9814.0       5\n",
      "Name: user_id, dtype: int64\n",
      " 259702.0    23\n",
      " 259704.0    20\n",
      " 259571.0    19\n",
      "NaN          17\n",
      " 265808.0    15\n",
      "Name: discussion_id, dtype: int64\n"
     ]
    }
   ],
   "source": [
    "print(df2.user_id.value_counts(dropna=False).head())\n",
    "print(df2.discussion_id.value_counts(dropna=False).head())"
   ]
  },
  {
   "cell_type": "code",
   "execution_count": 585,
   "metadata": {},
   "outputs": [],
   "source": [
    "df_messages = df2.iloc[17:,:].copy()"
   ]
  },
  {
   "cell_type": "code",
   "execution_count": 688,
   "metadata": {},
   "outputs": [],
   "source": [
    "messages = df_messages.message.copy()"
   ]
  },
  {
   "cell_type": "code",
   "execution_count": 690,
   "metadata": {},
   "outputs": [
    {
     "data": {
      "text/plain": [
       "17                                         <p>1</p>\n",
       "18                             <p>testing entry</p>\n",
       "19                             <p>Nitobe garden</p>\n",
       "20                                   <p>My dorm</p>\n",
       "21                                   <p>testing</p>\n",
       "22                     <p>cyan:wave1: Runescape</p>\n",
       "23                 <p>Shadow of war! </p>\\n<p> </p>\n",
       "24                              <p>I don't know</p>\n",
       "25    <p>Love it. I love Pizzahut. Domino Pizza</p>\n",
       "26                     <p>Love potato on pizza.</p>\n",
       "Name: message, dtype: object"
      ]
     },
     "execution_count": 690,
     "metadata": {},
     "output_type": "execute_result"
    }
   ],
   "source": [
    "messages.head(10)"
   ]
  },
  {
   "cell_type": "code",
   "execution_count": 594,
   "metadata": {},
   "outputs": [
    {
     "data": {
      "text/plain": [
       "17                                                     1\n",
       "18                                         testing entry\n",
       "19                                         Nitobe garden\n",
       "20                                               My dorm\n",
       "21                                               testing\n",
       "22                                 cyan wave1  Runescape\n",
       "23                              Shadow of war    p   p  \n",
       "24                                          I don t know\n",
       "25                Love it  I love Pizzahut  Domino Pizza\n",
       "26                                 Love potato on pizza \n",
       "27                          Maybe fries but not potatoes\n",
       "28                                                      \n",
       "29                                  Pineapple on pizza  \n",
       "30                           Thoughts on fries on pizza \n",
       "31                                       I dont like it \n",
       "32                                       Great Dane cafe\n",
       "33                                         Uncle Fatih s\n",
       "34            Blue chips cookie cafe  p   p Honour Rolls\n",
       "35     Great Dane  p   p Soup Market  p   p Village F...\n",
       "36                                   Village food court \n",
       "37             In class  No one responded  So I m here  \n",
       "38     Ketchup    p   p Cuz fries go with ketchup  an...\n",
       "39                                      Ketchup for sure\n",
       "40                          Mustard because it s savory \n",
       "41     Ketchup   Tasty  healthy and easy to access  I...\n",
       "42          Ketchup because it goes well with pineapple \n",
       "43     Mustard    even though I hate mustard  because...\n",
       "44     chup  I don t really like ketchup  but I hate ...\n",
       "45                             ketchup   more versatile \n",
       "46                Ketchup  because I don t like mustard \n",
       "                             ...                        \n",
       "96     v class  discussion section message wrapper   ...\n",
       "97     Hey all  my name is Surohit Tandon I am excite...\n",
       "98     Hi  My name is Alison  I m a research analyst ...\n",
       "99     Hi Everybody  My name is Kofi and I m in my la...\n",
       "100                                      test test test \n",
       "101    How do links show up    p   p  a class    titl...\n",
       "102                           Here is a discussion post \n",
       "103                                        testing reply\n",
       "104                                                 Same\n",
       "105                would this reply make a difference   \n",
       "106                                              U r dum\n",
       "107    I sometimes put mustard on fries  it can be go...\n",
       "108                                    Take the elevator\n",
       "109    <p>Thanks! That was a good call and something ...\n",
       "110                         Very good point. Thank you. \n",
       "111                                       <p>Laurel!</p>\n",
       "112                                       <p>Laurel!</p>\n",
       "113                                     <p>me too :)</p>\n",
       "114                               <p>White and gold.</p>\n",
       "115    <p>@</p>\\n<h2 class=\"discussion-title\" role=\"h...\n",
       "116                                           <p>fff</p>\n",
       "117                                          <p>good</p>\n",
       "118    <p>Hi Alison, what would you say some of the l...\n",
       "119    <p>Hi Winnie,</p>\\n<p>I graduated from Slais (...\n",
       "120    Hi Alison, I am Winnie, a graduate student in ...\n",
       "121    <p>Hi Kofi ! Look forward to having you there</p>\n",
       "122                                   <p>Cute panda!</p>\n",
       "123           <p>a second reply to the original post</p>\n",
       "124    <p>and again, replying to a reply. to myself.</p>\n",
       "125                 <p>Here I am replying to myself.</p>\n",
       "Name: message, Length: 109, dtype: object"
      ]
     },
     "execution_count": 594,
     "metadata": {},
     "output_type": "execute_result"
    }
   ],
   "source": [
    "for i in range(17,df_messages.shape[0]):\n",
    "    messages[i] = messages[i][3:-4]\n",
    "    messages[i] = re.sub(r\"[^a-zA-Z0-9]\",\" \",messages[i])\n",
    "messages\n"
   ]
  },
  {
   "cell_type": "code",
   "execution_count": 595,
   "metadata": {},
   "outputs": [
    {
     "name": "stdout",
     "output_type": "stream",
     "text": [
      "[nltk_data] Downloading package punkt to /home/jupyter/nltk_data...\n",
      "[nltk_data]   Package punkt is already up-to-date!\n",
      "[nltk_data] Downloading package wordnet to /home/jupyter/nltk_data...\n",
      "[nltk_data]   Package wordnet is already up-to-date!\n",
      "[nltk_data] Downloading package stopwords to\n",
      "[nltk_data]     /home/jupyter/nltk_data...\n",
      "[nltk_data]   Package stopwords is already up-to-date!\n"
     ]
    }
   ],
   "source": [
    "import nltk\n",
    "nltk.download('punkt')\n",
    "nltk.download('wordnet')\n",
    "from nltk.tokenize import word_tokenize\n",
    "nltk.download('stopwords')\n",
    "from nltk.corpus import stopwords\n",
    "def tokenize(text):\n",
    "    # Converting all text to lower case\n",
    "    text = text.lower()\n",
    "    \n",
    "    # Removing punctuation from all text\n",
    "    text = re.sub(r\"[^a-zA-Z0-9]\",\" \",text)\n",
    "    words = word_tokenize(text)\n",
    "    \n",
    "    # Removing stop words\n",
    "    new_words = []\n",
    "    for w in words:\n",
    "        if w not in stopwords.words('english'):\n",
    "            new_words.append(w)\n",
    "    \n",
    "    # Lemmatizing our new words\n",
    "    lemmatizer = WordNetLemmatizer()\n",
    "    \n",
    "    clean_tokens = []\n",
    "    for word in new_words:\n",
    "        clean_tok = lemmatizer.lemmatize(word).strip()\n",
    "        clean_tokens.append(clean_tok)\n",
    "\n",
    "    return clean_tokens"
   ]
  },
  {
   "cell_type": "code",
   "execution_count": 597,
   "metadata": {},
   "outputs": [
    {
     "name": "stdout",
     "output_type": "stream",
     "text": [
      "['03', '1', '2', '20', '2019', '20stories', '2624', '30739', '375', '3966206353', '41894164051', '500', '5th', '60563', '89a2c7dd0b', 'access', 'acknowledgement', 'action', 'alison', 'along', 'also', 'alt', 'amp', 'analyst', 'analytic', 'another', 'application', 'april', 'aria', 'attend', 'author', 'bag', 'banana', 'beginning', 'bind', 'bl', 'black', 'blue', 'bringing', 'business', 'buy', 'bypass', 'ca', 'cafe', 'call', 'canvas', 'card', 'case', 'centre', 'chip', 'choice', 'choose', 'chose', 'chup', 'class', 'classic', 'clear', 'click', 'co', 'cog', 'cognitive', 'com', 'company', 'condiment', 'content', 'context', 'cookie', 'course', 'court', 'cute', 'cuz', 'cyan', 'dane', 'data', 'deadline', 'debate', 'definitely', 'design', 'difference', 'disabled', 'discussion', 'display', 'div', 'dog', 'domino', 'dont', 'dorm', 'dqw4w9wgxcq', 'drag', 'dress', 'dum', 'e', 'easy', 'education', 'elevator', 'em', 'employment', 'endless', 'enhanced', 'enthusiast', 'entrance', 'entry', 'european', 'even', 'event', 'everybody', 'excited', 'experience', 'farm3', 'fatih', 'fear', 'fff', 'fine', 'first', 'flickr', 'folk', 'food', 'forward', 'friday', 'fry', 'garden', 'general', 'generally', 'get', 'getting', 'go', 'gold', 'good', 'google', 'graduate', 'graduated', 'great', 'h2', 'hackathon', 'hackubc', 'hand', 'hate', 'heading', 'healthy', 'hear', 'heard', 'height', 'helping', 'hey', 'hi', 'homepage', 'honour', 'hoping', 'hosting', 'hot', 'href', 'html', 'http', 'id', 'ignore', 'img', 'important', 'info', 'information', 'initiative', 'inline', 'instead', 'interest', 'jpg', 'ketc', 'ketch', 'ketchup', 'know', 'knowledge', 'kofi', 'land', 'lasi', 'lasi19', 'last', 'laurel', 'learn', 'learning', 'level', 'library', 'life', 'like', 'limitation', 'link', 'local', 'locked', 'look', 'looking', 'love', 'make', 'manipulate', 'market', 'maybe', 'mcdonalds', 'mean', 'meet', 'message', 'module', 'mucky', 'must', 'mustard', 'n', 'n01', 'name', 'need', 'nitobe', 'nytimes', 'one', 'open', 'org', 'organise', 'organize', 'original', 'p', 'package', 'panda', 'participant', 'participate', 'pasta', 'patricia', 'people', 'pgtype', 'phd', 'photo', 'pick', 'picked', 'pineapple', 'pizza', 'pizzahut', 'point', 'post', 'posted', 'potato', 'practice', 'presenting', 'pretty', 'preview', 'previous', 'program', 'psychology', 'put', 'python', 'qlik', 'qliksense', 'qlikview', 'question', 'r', 'range', 'really', 'related', 'reply', 'replying', 'research', 'responded', 'role', 'roll', 'runescape', 'sauder', 'savory', 'say', 'scholarship', 'school', 'science', 'seal', 'second', 'section', 'secure', 'see', 'shadow', 'show', 'shut', 'skill', 'slais', 'solaresearch', 'something', 'sometimes', 'soup', 'sousa', 'src', 'stair', 'static', 'strategist', 'student', 'study', 'superior', 'sure', 'surohit', 'tableau', 'take', 'tandon', 'tasty', 'teaching', 'technology', 'test', 'test1', 'testing', 'thank', 'thanks', 'thinking', 'though', 'thought', 'title', 'tomorrow', 'top', 'trigger', 'trish', 'u', 'ubc', 'uncle', 'undergraduate', 'union', 'unsure', 'upstairs', 'used', 'user', 'using', 'v', 'varao', 'versatile', 'village', 'visualization', 'war', 'wave1', 'weird', 'well', 'white', 'wider', 'width', 'winnie', 'work', 'workshop', 'would', 'wrapper', 'wrong', 'www', 'yanny', 'year', 'youtu']\n",
      "[[0 1 0 ... 0 0 0]\n",
      " [0 0 0 ... 0 0 0]\n",
      " [0 0 0 ... 0 0 0]\n",
      " ...\n",
      " [0 0 0 ... 0 0 0]\n",
      " [0 0 0 ... 0 0 0]\n",
      " [0 0 0 ... 0 0 0]]\n"
     ]
    }
   ],
   "source": [
    "# Visualising \n",
    "print(vectorizer.get_feature_names())\n",
    "print(X.toarray())"
   ]
  },
  {
   "cell_type": "code",
   "execution_count": 598,
   "metadata": {},
   "outputs": [],
   "source": [
    "df_words = pd.DataFrame(X.toarray(), columns=vectorizer.get_feature_names()) "
   ]
  },
  {
   "cell_type": "code",
   "execution_count": 602,
   "metadata": {},
   "outputs": [
    {
     "data": {
      "text/plain": [
       "Index(['03', '1', '2', '20', '2019', '20stories', '2624', '30739', '375',\n",
       "       '3966206353', '41894164051', '500', '5th', '60563', '89a2c7dd0b'],\n",
       "      dtype='object')"
      ]
     },
     "execution_count": 602,
     "metadata": {},
     "output_type": "execute_result"
    }
   ],
   "source": [
    "df_words.columns[:15]"
   ]
  },
  {
   "cell_type": "code",
   "execution_count": 604,
   "metadata": {},
   "outputs": [],
   "source": [
    "cols_to_drop = df_words.columns[:15]"
   ]
  },
  {
   "cell_type": "code",
   "execution_count": 605,
   "metadata": {},
   "outputs": [
    {
     "data": {
      "text/plain": [
       "Index(['03', '1', '2', '20', '2019', '20stories', '2624', '30739', '375',\n",
       "       '3966206353', '41894164051', '500', '5th', '60563', '89a2c7dd0b'],\n",
       "      dtype='object')"
      ]
     },
     "execution_count": 605,
     "metadata": {},
     "output_type": "execute_result"
    }
   ],
   "source": [
    "# Lol deleted the orignal code by accident \n",
    "cols_to_drop "
   ]
  },
  {
   "cell_type": "code",
   "execution_count": 610,
   "metadata": {},
   "outputs": [],
   "source": [
    "cols = list(cols_to_drop)+['p','http','href']"
   ]
  },
  {
   "cell_type": "code",
   "execution_count": 611,
   "metadata": {},
   "outputs": [],
   "source": [
    "df_words = df_words.drop(cols, axis = 1)"
   ]
  },
  {
   "cell_type": "code",
   "execution_count": 617,
   "metadata": {},
   "outputs": [
    {
     "data": {
      "text/html": [
       "<div>\n",
       "<style scoped>\n",
       "    .dataframe tbody tr th:only-of-type {\n",
       "        vertical-align: middle;\n",
       "    }\n",
       "\n",
       "    .dataframe tbody tr th {\n",
       "        vertical-align: top;\n",
       "    }\n",
       "\n",
       "    .dataframe thead th {\n",
       "        text-align: right;\n",
       "    }\n",
       "</style>\n",
       "<table border=\"1\" class=\"dataframe\">\n",
       "  <thead>\n",
       "    <tr style=\"text-align: right;\">\n",
       "      <th></th>\n",
       "      <th>access</th>\n",
       "      <th>acknowledgement</th>\n",
       "      <th>action</th>\n",
       "      <th>alison</th>\n",
       "      <th>along</th>\n",
       "      <th>also</th>\n",
       "      <th>alt</th>\n",
       "      <th>amp</th>\n",
       "      <th>analyst</th>\n",
       "      <th>analytic</th>\n",
       "      <th>...</th>\n",
       "      <th>winnie</th>\n",
       "      <th>work</th>\n",
       "      <th>workshop</th>\n",
       "      <th>would</th>\n",
       "      <th>wrapper</th>\n",
       "      <th>wrong</th>\n",
       "      <th>www</th>\n",
       "      <th>yanny</th>\n",
       "      <th>year</th>\n",
       "      <th>youtu</th>\n",
       "    </tr>\n",
       "  </thead>\n",
       "  <tbody>\n",
       "    <tr>\n",
       "      <th>0</th>\n",
       "      <td>0</td>\n",
       "      <td>0</td>\n",
       "      <td>0</td>\n",
       "      <td>0</td>\n",
       "      <td>0</td>\n",
       "      <td>0</td>\n",
       "      <td>0</td>\n",
       "      <td>0</td>\n",
       "      <td>0</td>\n",
       "      <td>0</td>\n",
       "      <td>...</td>\n",
       "      <td>0</td>\n",
       "      <td>0</td>\n",
       "      <td>0</td>\n",
       "      <td>0</td>\n",
       "      <td>0</td>\n",
       "      <td>0</td>\n",
       "      <td>0</td>\n",
       "      <td>0</td>\n",
       "      <td>0</td>\n",
       "      <td>0</td>\n",
       "    </tr>\n",
       "    <tr>\n",
       "      <th>1</th>\n",
       "      <td>0</td>\n",
       "      <td>0</td>\n",
       "      <td>0</td>\n",
       "      <td>0</td>\n",
       "      <td>0</td>\n",
       "      <td>0</td>\n",
       "      <td>0</td>\n",
       "      <td>0</td>\n",
       "      <td>0</td>\n",
       "      <td>0</td>\n",
       "      <td>...</td>\n",
       "      <td>0</td>\n",
       "      <td>0</td>\n",
       "      <td>0</td>\n",
       "      <td>0</td>\n",
       "      <td>0</td>\n",
       "      <td>0</td>\n",
       "      <td>0</td>\n",
       "      <td>0</td>\n",
       "      <td>0</td>\n",
       "      <td>0</td>\n",
       "    </tr>\n",
       "    <tr>\n",
       "      <th>2</th>\n",
       "      <td>0</td>\n",
       "      <td>0</td>\n",
       "      <td>0</td>\n",
       "      <td>0</td>\n",
       "      <td>0</td>\n",
       "      <td>0</td>\n",
       "      <td>0</td>\n",
       "      <td>0</td>\n",
       "      <td>0</td>\n",
       "      <td>0</td>\n",
       "      <td>...</td>\n",
       "      <td>0</td>\n",
       "      <td>0</td>\n",
       "      <td>0</td>\n",
       "      <td>0</td>\n",
       "      <td>0</td>\n",
       "      <td>0</td>\n",
       "      <td>0</td>\n",
       "      <td>0</td>\n",
       "      <td>0</td>\n",
       "      <td>0</td>\n",
       "    </tr>\n",
       "    <tr>\n",
       "      <th>3</th>\n",
       "      <td>0</td>\n",
       "      <td>0</td>\n",
       "      <td>0</td>\n",
       "      <td>0</td>\n",
       "      <td>0</td>\n",
       "      <td>0</td>\n",
       "      <td>0</td>\n",
       "      <td>0</td>\n",
       "      <td>0</td>\n",
       "      <td>0</td>\n",
       "      <td>...</td>\n",
       "      <td>0</td>\n",
       "      <td>0</td>\n",
       "      <td>0</td>\n",
       "      <td>0</td>\n",
       "      <td>0</td>\n",
       "      <td>0</td>\n",
       "      <td>0</td>\n",
       "      <td>0</td>\n",
       "      <td>0</td>\n",
       "      <td>0</td>\n",
       "    </tr>\n",
       "    <tr>\n",
       "      <th>4</th>\n",
       "      <td>0</td>\n",
       "      <td>0</td>\n",
       "      <td>0</td>\n",
       "      <td>0</td>\n",
       "      <td>0</td>\n",
       "      <td>0</td>\n",
       "      <td>0</td>\n",
       "      <td>0</td>\n",
       "      <td>0</td>\n",
       "      <td>0</td>\n",
       "      <td>...</td>\n",
       "      <td>0</td>\n",
       "      <td>0</td>\n",
       "      <td>0</td>\n",
       "      <td>0</td>\n",
       "      <td>0</td>\n",
       "      <td>0</td>\n",
       "      <td>0</td>\n",
       "      <td>0</td>\n",
       "      <td>0</td>\n",
       "      <td>0</td>\n",
       "    </tr>\n",
       "  </tbody>\n",
       "</table>\n",
       "<p>5 rows × 319 columns</p>\n",
       "</div>"
      ],
      "text/plain": [
       "   access  acknowledgement  action  alison  along  also  alt  amp  analyst  \\\n",
       "0       0                0       0       0      0     0    0    0        0   \n",
       "1       0                0       0       0      0     0    0    0        0   \n",
       "2       0                0       0       0      0     0    0    0        0   \n",
       "3       0                0       0       0      0     0    0    0        0   \n",
       "4       0                0       0       0      0     0    0    0        0   \n",
       "\n",
       "   analytic  ...  winnie  work  workshop  would  wrapper  wrong  www  yanny  \\\n",
       "0         0  ...       0     0         0      0        0      0    0      0   \n",
       "1         0  ...       0     0         0      0        0      0    0      0   \n",
       "2         0  ...       0     0         0      0        0      0    0      0   \n",
       "3         0  ...       0     0         0      0        0      0    0      0   \n",
       "4         0  ...       0     0         0      0        0      0    0      0   \n",
       "\n",
       "   year  youtu  \n",
       "0     0      0  \n",
       "1     0      0  \n",
       "2     0      0  \n",
       "3     0      0  \n",
       "4     0      0  \n",
       "\n",
       "[5 rows x 319 columns]"
      ]
     },
     "execution_count": 617,
     "metadata": {},
     "output_type": "execute_result"
    }
   ],
   "source": [
    "df_words.head()"
   ]
  },
  {
   "cell_type": "code",
   "execution_count": 664,
   "metadata": {},
   "outputs": [
    {
     "data": {
      "text/plain": [
       "<109x319 sparse matrix of type '<class 'numpy.float64'>'\n",
       "\twith 495 stored elements in Compressed Sparse Row format>"
      ]
     },
     "execution_count": 664,
     "metadata": {},
     "output_type": "execute_result"
    }
   ],
   "source": [
    "from sklearn.feature_extraction.text import TfidfTransformer\n",
    "tv = TfidfTransformer()\n",
    "tv.fit_transform(df_words)"
   ]
  },
  {
   "cell_type": "code",
   "execution_count": 616,
   "metadata": {},
   "outputs": [
    {
     "data": {
      "text/html": [
       "<div>\n",
       "<style scoped>\n",
       "    .dataframe tbody tr th:only-of-type {\n",
       "        vertical-align: middle;\n",
       "    }\n",
       "\n",
       "    .dataframe tbody tr th {\n",
       "        vertical-align: top;\n",
       "    }\n",
       "\n",
       "    .dataframe thead th {\n",
       "        text-align: right;\n",
       "    }\n",
       "</style>\n",
       "<table border=\"1\" class=\"dataframe\">\n",
       "  <thead>\n",
       "    <tr style=\"text-align: right;\">\n",
       "      <th></th>\n",
       "      <th>author</th>\n",
       "      <th>created_at</th>\n",
       "      <th>discussion_id</th>\n",
       "      <th>message</th>\n",
       "      <th>posted_at</th>\n",
       "      <th>title</th>\n",
       "      <th>user_id</th>\n",
       "      <th>user_name</th>\n",
       "    </tr>\n",
       "  </thead>\n",
       "  <tbody>\n",
       "    <tr>\n",
       "      <th>17</th>\n",
       "      <td>None</td>\n",
       "      <td>2019-03-30T18:59:34Z</td>\n",
       "      <td>265853.0</td>\n",
       "      <td>&lt;p&gt;1&lt;/p&gt;</td>\n",
       "      <td>None</td>\n",
       "      <td>None</td>\n",
       "      <td>14655.0</td>\n",
       "      <td>Will Zhang</td>\n",
       "    </tr>\n",
       "    <tr>\n",
       "      <th>18</th>\n",
       "      <td>None</td>\n",
       "      <td>2019-03-30T18:26:30Z</td>\n",
       "      <td>265842.0</td>\n",
       "      <td>&lt;p&gt;testing entry&lt;/p&gt;</td>\n",
       "      <td>None</td>\n",
       "      <td>None</td>\n",
       "      <td>42040.0</td>\n",
       "      <td>Jerry Liu</td>\n",
       "    </tr>\n",
       "    <tr>\n",
       "      <th>19</th>\n",
       "      <td>None</td>\n",
       "      <td>2019-03-30T18:36:05Z</td>\n",
       "      <td>265840.0</td>\n",
       "      <td>&lt;p&gt;Nitobe garden&lt;/p&gt;</td>\n",
       "      <td>None</td>\n",
       "      <td>None</td>\n",
       "      <td>24988.0</td>\n",
       "      <td>Alexandra Gil</td>\n",
       "    </tr>\n",
       "    <tr>\n",
       "      <th>20</th>\n",
       "      <td>None</td>\n",
       "      <td>2019-03-30T18:28:43Z</td>\n",
       "      <td>265840.0</td>\n",
       "      <td>&lt;p&gt;My dorm&lt;/p&gt;</td>\n",
       "      <td>None</td>\n",
       "      <td>None</td>\n",
       "      <td>117279.0</td>\n",
       "      <td>Daniel Liu</td>\n",
       "    </tr>\n",
       "    <tr>\n",
       "      <th>21</th>\n",
       "      <td>None</td>\n",
       "      <td>2019-03-30T18:02:13Z</td>\n",
       "      <td>265840.0</td>\n",
       "      <td>&lt;p&gt;testing&lt;/p&gt;</td>\n",
       "      <td>None</td>\n",
       "      <td>None</td>\n",
       "      <td>42040.0</td>\n",
       "      <td>Jerry Liu</td>\n",
       "    </tr>\n",
       "  </tbody>\n",
       "</table>\n",
       "</div>"
      ],
      "text/plain": [
       "   author            created_at  discussion_id               message  \\\n",
       "17   None  2019-03-30T18:59:34Z       265853.0              <p>1</p>   \n",
       "18   None  2019-03-30T18:26:30Z       265842.0  <p>testing entry</p>   \n",
       "19   None  2019-03-30T18:36:05Z       265840.0  <p>Nitobe garden</p>   \n",
       "20   None  2019-03-30T18:28:43Z       265840.0        <p>My dorm</p>   \n",
       "21   None  2019-03-30T18:02:13Z       265840.0        <p>testing</p>   \n",
       "\n",
       "   posted_at title   user_id      user_name  \n",
       "17      None  None   14655.0     Will Zhang  \n",
       "18      None  None   42040.0      Jerry Liu  \n",
       "19      None  None   24988.0  Alexandra Gil  \n",
       "20      None  None  117279.0     Daniel Liu  \n",
       "21      None  None   42040.0      Jerry Liu  "
      ]
     },
     "execution_count": 616,
     "metadata": {},
     "output_type": "execute_result"
    }
   ],
   "source": [
    "df_messages.head()"
   ]
  },
  {
   "cell_type": "code",
   "execution_count": 625,
   "metadata": {},
   "outputs": [
    {
     "data": {
      "text/plain": [
       "0"
      ]
     },
     "execution_count": 625,
     "metadata": {},
     "output_type": "execute_result"
    }
   ],
   "source": [
    "df_messages.discussion_id.isna().sum()"
   ]
  },
  {
   "cell_type": "code",
   "execution_count": 670,
   "metadata": {},
   "outputs": [],
   "source": [
    "new_df = df_messages.reset_index().copy()\n",
    "df_target_variable = new_df.discussion_id"
   ]
  },
  {
   "cell_type": "code",
   "execution_count": 671,
   "metadata": {},
   "outputs": [],
   "source": [
    "from sklearn.model_selection import train_test_split\n",
    "X=df_words\n",
    "Y=df_target_variable\n",
    "X_train, X_test, y_train, y_test = train_test_split(X, Y)"
   ]
  },
  {
   "cell_type": "code",
   "execution_count": 672,
   "metadata": {},
   "outputs": [
    {
     "data": {
      "text/plain": [
       "RandomForestClassifier(bootstrap=True, class_weight=None, criterion='gini',\n",
       "            max_depth=None, max_features='auto', max_leaf_nodes=None,\n",
       "            min_impurity_decrease=0.0, min_impurity_split=None,\n",
       "            min_samples_leaf=1, min_samples_split=2,\n",
       "            min_weight_fraction_leaf=0.0, n_estimators=200, n_jobs=None,\n",
       "            oob_score=False, random_state=None, verbose=0,\n",
       "            warm_start=False)"
      ]
     },
     "execution_count": 672,
     "metadata": {},
     "output_type": "execute_result"
    }
   ],
   "source": [
    "\n",
    "from sklearn.ensemble import RandomForestClassifier\n",
    "clf = RandomForestClassifier(n_estimators=200)\n",
    "clf.fit(X_train,y_train)"
   ]
  },
  {
   "cell_type": "code",
   "execution_count": 673,
   "metadata": {},
   "outputs": [],
   "source": [
    "y_pred = clf.predict(X_test)"
   ]
  },
  {
   "cell_type": "code",
   "execution_count": 674,
   "metadata": {},
   "outputs": [],
   "source": [
    "accuracy = (y_pred == y_test).mean()"
   ]
  },
  {
   "cell_type": "code",
   "execution_count": 684,
   "metadata": {},
   "outputs": [
    {
     "name": "stdout",
     "output_type": "stream",
     "text": [
      "Accruacy: 57.1%\n"
     ]
    }
   ],
   "source": [
    "print(\"Accruacy: {0:0.1f}%\".format(accuracy*100))"
   ]
  },
  {
   "cell_type": "code",
   "execution_count": 647,
   "metadata": {},
   "outputs": [],
   "source": [
    "most_words = df_words.sum().sort_values().tail(n=20)\n",
    "most_words_headers = most_words.index"
   ]
  },
  {
   "cell_type": "code",
   "execution_count": 686,
   "metadata": {},
   "outputs": [
    {
     "data": {
      "image/png": "[encoded data removed]",
      "text/plain": [
       "<Figure size 720x720 with 1 Axes>"
      ]
     },
     "metadata": {
      "needs_background": "light"
     },
     "output_type": "display_data"
    }
   ],
   "source": [
    "%matplotlib inline\n",
    "import matplotlib.pyplot as plt\n",
    "my_colors = [(x/20.0, x/25.0, 0.75) for x in range(len(most_words))]\n",
    "plt.figure(figsize=(10,10))\n",
    "plt.bar(x = most_words_headers, height = most_words, color = my_colors)\n",
    "plt.xticks(rotation=90)\n",
    "plt.title(\"Most Frequent Words Used in Discussion\")\n",
    "plt.xlabel(\"Words\")\n",
    "plt.ylabel(\"Frequency\");"
   ]
  },
  {
   "cell_type": "code",
   "execution_count": null,
   "metadata": {},
   "outputs": [],
   "source": []
  }
 ],
 "metadata": {
  "kernelspec": {
   "display_name": "Python 3",
   "language": "python",
   "name": "python3"
  },
  "language_info": {
   "codemirror_mode": {
    "name": "ipython",
    "version": 3
   },
   "file_extension": ".py",
   "mimetype": "text/x-python",
   "name": "python",
   "nbconvert_exporter": "python",
   "pygments_lexer": "ipython3",
   "version": "3.6.8"
  }
 },
 "nbformat": 4,
 "nbformat_minor": 2
}
