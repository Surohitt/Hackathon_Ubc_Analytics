{
 "cells": [
  {
   "cell_type": "markdown",
   "metadata": {},
   "source": [
    "# Data manipulation\n",
    "In this second notebook, we are going to clean up and manipulate the data we exported from Canvas in the first workbook.\n",
    "\n",
    "We will start with loading the data we exported in the first workbook, and looking at the dictionary keys associated with each discussion post type."
   ]
  },
  {
   "cell_type": "markdown",
   "metadata": {},
   "source": [
    "## Load the data"
   ]
  },
  {
   "cell_type": "code",
   "execution_count": 380,
   "metadata": {},
   "outputs": [],
   "source": [
    "import pandas as pd\n",
    "import json\n",
    "\n",
    "with open('all_topics.json', 'r') as f:\n",
    "    all_topics = json.load(f)\n",
    "\n",
    "with open('all_entries.json', 'r') as f:\n",
    "    all_entries = json.load(f)\n",
    "\n",
    "with open('all_replies.json', 'r') as f:\n",
    "    all_replies = json.load(f)"
   ]
  },
  {
   "cell_type": "markdown",
   "metadata": {},
   "source": [
    "# Explore the data\n",
    "\n",
    "If you haven't already, try printing some data from one of more of the discussion posts."
   ]
  },
  {
   "cell_type": "code",
   "execution_count": 381,
   "metadata": {},
   "outputs": [
    {
     "data": {
      "text/plain": [
       "dict_keys(['id', 'title', 'last_reply_at', 'created_at', 'delayed_post_at', 'posted_at', 'assignment_id', 'root_topic_id', 'position', 'podcast_has_student_posts', 'discussion_type', 'lock_at', 'allow_rating', 'only_graders_can_rate', 'sort_by_rating', 'is_section_specific', 'user_name', 'discussion_subentry_count', 'permissions', 'require_initial_post', 'user_can_see_posts', 'podcast_url', 'read_state', 'unread_count', 'subscribed', 'topic_children', 'group_topic_children', 'attachments', 'published', 'can_unpublish', 'locked', 'can_lock', 'comments_disabled', 'author', 'html_url', 'url', 'pinned', 'group_category_id', 'can_group', 'locked_for_user', 'message', 'todo_date', 'course_id'])"
      ]
     },
     "execution_count": 381,
     "metadata": {},
     "output_type": "execute_result"
    }
   ],
   "source": [
    "all_topics[0].keys()"
   ]
  },
  {
   "cell_type": "code",
   "execution_count": 382,
   "metadata": {},
   "outputs": [],
   "source": [
    "All_Keys = list(all_topics[0].keys())"
   ]
  },
  {
   "cell_type": "code",
   "execution_count": 383,
   "metadata": {},
   "outputs": [
    {
     "data": {
      "text/plain": [
       "dict_keys(['id', 'user_id', 'parent_id', 'created_at', 'updated_at', 'rating_count', 'rating_sum', 'user_name', 'message', 'user', 'read_state', 'forced_read_state', 'discussion_id', 'course_id'])"
      ]
     },
     "execution_count": 383,
     "metadata": {},
     "output_type": "execute_result"
    }
   ],
   "source": [
    "all_entries[0].keys()"
   ]
  },
  {
   "cell_type": "code",
   "execution_count": 384,
   "metadata": {},
   "outputs": [
    {
     "data": {
      "text/plain": [
       "dict_keys(['id', 'user_id', 'parent_id', 'created_at', 'updated_at', 'rating_count', 'rating_sum', 'user_name', 'message', 'user', 'read_state', 'forced_read_state', 'discussion_id', 'course_id'])"
      ]
     },
     "execution_count": 384,
     "metadata": {},
     "output_type": "execute_result"
    }
   ],
   "source": [
    "all_replies[0].keys()"
   ]
  },
  {
   "cell_type": "code",
   "execution_count": 385,
   "metadata": {},
   "outputs": [
    {
     "name": "stdout",
     "output_type": "stream",
     "text": [
      "Will Zhang <p>...</p>\n",
      "Jerry Liu \n",
      "Ju Hee Park \n",
      "Bruce Zhao <p>I'm playing Sekiro.</p>\n",
      "Dhruv Mahajan \n",
      "Abigail Climacosa <p>What are your top 3 food spots on/near campus?</p>\n",
      "Alison Myers <p>Ketchup or mustard? You must pick one. Defend your choice! </p>\r\n",
      "<p>If you disagree with one of your peers, respond. </p>\r\n",
      "<p>(P.s. general - be a reasonable human applies here, be respectful, this is for fun)</p>\n",
      "William Engle <p>If you're interested in learning analytics - there's a conference at UBC in June: <a href=\"https://solaresearch.org/events/lasi/lasi19/\">https://solaresearch.org/events/lasi/lasi19/</a></p>\r\n",
      "<p>Students get their membership for free (UBC is an institutional member) and can apply for scholarships for registration. Scholarships apply only to PhD students.</p>\n",
      "Erica Commons \n",
      "Alison Myers <p><iframe src=\"https://www.youtube.com/embed/DK_0jXPuIr0\" width=\"560\" height=\"315\" allowfullscreen=\"allowfullscreen\" allow=\"accelerometer; autoplay; encrypted-media; gyroscope; picture-in-picture\"></iframe></p>\n",
      "Alison Myers <p><iframe src=\"https://www.youtube.com/embed/DdvN4WqJh6g\" width=\"560\" height=\"315\" allowfullscreen=\"allowfullscreen\" allow=\"accelerometer; autoplay; encrypted-media; gyroscope; picture-in-picture\"></iframe></p>\n",
      "Alison Myers <p><a href=\"https://en.wikipedia.org/wiki/The_dress\">https://en.wikipedia.org/wiki/The_dress</a></p>\r\n",
      "<p> </p>\n",
      "None <p>Use this as a space to introduce yourselves. </p>\n",
      "<ul>\n",
      "<li>What brought you here?</li>\n",
      "<li>What skills will you bring to the hackathon?</li>\n",
      "<li>What skills would you like to learn?</li>\n",
      "<li>Any initial project ideas?</li>\n",
      "</ul>\n",
      "None <p>Use this forum to share what you are doing, your ideas, or anything else you may want to collaborate on with the rest of the teams.</p>\n",
      "None <p>Have a general question, ask here!</p>\n",
      "None <p>Use this to discuss any shortcomings of the Canvas API that you would like to share. Data that you can't access due to your role as student, data that is not accessible at all etc.</p>\n",
      "<ul>\n",
      "<li style=\"font-weight: 400;\"><span style=\"font-weight: 400;\">There’s no reference in the API docs to this feature, but it would be useful to have</span></li>\n",
      "<li style=\"font-weight: 400;\"><span style=\"font-weight: 400;\">This is an existing, documented feature, but it’s not available to the student role</span></li>\n",
      "</ul>\n",
      "None <p>Is there something you think is technically possible but you just don't have the ability to do it? Are there questions you are struggling with that you think another person or team can help with? Ask those questions here.</p>\n",
      "<p>P.S. The Hackathon Team won't necessarily be monitoring this section, it is more for participants to discuss issues. But please come talk to the Hackathon team if you are having trouble and we will try to help if we can!</p>\n"
     ]
    }
   ],
   "source": [
    "for topic in all_topics:\n",
    "    print(topic['user_name'], topic['message'])"
   ]
  },
  {
   "cell_type": "markdown",
   "metadata": {},
   "source": [
    "## Discussion content\n",
    "There's more information than we really need in some of these discussion posts, so let's extact only the data elements that are of interest. I've pre-selected a few here, but or remove as you like."
   ]
  },
  {
   "cell_type": "code",
   "execution_count": 386,
   "metadata": {},
   "outputs": [],
   "source": [
    "keys_to_keep = ['user_name', 'created_at', 'message', 'discussion_id', 'id', 'parent_id']\n"
   ]
  },
  {
   "cell_type": "code",
   "execution_count": 387,
   "metadata": {},
   "outputs": [
    {
     "name": "stdout",
     "output_type": "stream",
     "text": [
      "[{'user_name': 'Will Zhang', 'created_at': '2019-03-30T18:58:43Z', 'message': '<p>...</p>', 'discussion_id': None, 'id': 265853, 'parent_id': None}, {'user_name': 'Jerry Liu', 'created_at': '2019-03-30T18:02:49Z', 'message': '', 'discussion_id': None, 'id': 265842, 'parent_id': None}, {'user_name': 'Ju Hee Park', 'created_at': '2019-03-30T18:01:08Z', 'message': '', 'discussion_id': None, 'id': 265840, 'parent_id': None}, {'user_name': 'Bruce Zhao', 'created_at': '2019-03-30T17:15:36Z', 'message': \"<p>I'm playing Sekiro.</p>\", 'discussion_id': None, 'id': 265828, 'parent_id': None}, {'user_name': 'Dhruv Mahajan', 'created_at': '2019-03-30T17:07:28Z', 'message': '', 'discussion_id': None, 'id': 265827, 'parent_id': None}, {'user_name': 'Abigail Climacosa', 'created_at': '2019-03-30T17:07:12Z', 'message': '<p>What are your top 3 food spots on/near campus?</p>', 'discussion_id': None, 'id': 265826, 'parent_id': None}, {'user_name': 'Alison Myers', 'created_at': '2019-03-30T15:47:13Z', 'message': '<p>Ketchup or mustard? You must pick one. Defend your choice!\\xa0</p>\\r\\n<p>If you disagree with one of your peers, respond.\\xa0</p>\\r\\n<p>(P.s. general - be a reasonable human applies here, be respectful, this is for fun)</p>', 'discussion_id': None, 'id': 265808, 'parent_id': None}, {'user_name': 'William Engle', 'created_at': '2019-03-30T15:24:38Z', 'message': '<p>If you\\'re interested in learning analytics - there\\'s a conference at UBC in June: <a href=\"https://solaresearch.org/events/lasi/lasi19/\">https://solaresearch.org/events/lasi/lasi19/</a></p>\\r\\n<p>Students get their membership for free (UBC is an institutional member) and can apply for scholarships for registration. Scholarships apply only to PhD students.</p>', 'discussion_id': None, 'id': 265804, 'parent_id': None}, {'user_name': 'Erica Commons', 'created_at': '2019-03-29T23:21:47Z', 'message': '', 'discussion_id': None, 'id': 265697, 'parent_id': None}, {'user_name': 'Alison Myers', 'created_at': '2019-03-19T20:16:46Z', 'message': '<p><iframe src=\"https://www.youtube.com/embed/DK_0jXPuIr0\" width=\"560\" height=\"315\" allowfullscreen=\"allowfullscreen\" allow=\"accelerometer; autoplay; encrypted-media; gyroscope; picture-in-picture\"></iframe></p>', 'discussion_id': None, 'id': 259726, 'parent_id': None}, {'user_name': 'Alison Myers', 'created_at': '2019-03-19T19:59:35Z', 'message': '<p><iframe src=\"https://www.youtube.com/embed/DdvN4WqJh6g\" width=\"560\" height=\"315\" allowfullscreen=\"allowfullscreen\" allow=\"accelerometer; autoplay; encrypted-media; gyroscope; picture-in-picture\"></iframe></p>', 'discussion_id': None, 'id': 259704, 'parent_id': None}, {'user_name': 'Alison Myers', 'created_at': '2019-03-19T19:57:55Z', 'message': '<p><a href=\"https://en.wikipedia.org/wiki/The_dress\">https://en.wikipedia.org/wiki/The_dress</a></p>\\r\\n<p>\\xa0</p>', 'discussion_id': None, 'id': 259702, 'parent_id': None}, {'user_name': None, 'created_at': '2019-03-19T18:48:50Z', 'message': '<p>Use this as a space to introduce yourselves.\\xa0</p>\\n<ul>\\n<li>What brought you here?</li>\\n<li>What skills will you bring to the hackathon?</li>\\n<li>What skills would you like to learn?</li>\\n<li>Any initial project ideas?</li>\\n</ul>', 'discussion_id': None, 'id': 259571, 'parent_id': None}, {'user_name': None, 'created_at': '2019-03-19T18:48:50Z', 'message': '<p>Use this forum to share what you are doing, your ideas, or anything else you may want to collaborate on with the rest of the teams.</p>', 'discussion_id': None, 'id': 259570, 'parent_id': None}, {'user_name': None, 'created_at': '2019-03-19T18:48:50Z', 'message': '<p>Have a general question, ask here!</p>', 'discussion_id': None, 'id': 259569, 'parent_id': None}, {'user_name': None, 'created_at': '2019-03-19T18:48:50Z', 'message': '<p>Use this to discuss any shortcomings of the Canvas API that you would like to share. Data that you can\\'t access due to your role as student, data that is not accessible at all etc.</p>\\n<ul>\\n<li style=\"font-weight: 400;\"><span style=\"font-weight: 400;\">There’s no reference in the API docs to this feature, but it would be useful to have</span></li>\\n<li style=\"font-weight: 400;\"><span style=\"font-weight: 400;\">This is an existing, documented feature, but it’s not available to the student role</span></li>\\n</ul>', 'discussion_id': None, 'id': 259568, 'parent_id': None}, {'user_name': None, 'created_at': '2019-03-19T18:48:50Z', 'message': \"<p>Is there something you think is technically possible but you just don't have the ability to do it? Are there questions you are struggling with that you think another person or team can help with? Ask those questions here.</p>\\n<p>P.S. The Hackathon Team won't necessarily be monitoring this section, it is more for participants to discuss issues. But please come talk to the Hackathon team if you are having trouble and we will try to help if we can!</p>\", 'discussion_id': None, 'id': 259567, 'parent_id': None}]\n"
     ]
    }
   ],
   "source": [
    "reduced_topics = []\n",
    "for topic in all_topics:\n",
    "    reduced_topics.append({k: topic.get(k, None) for k in keys_to_keep})\n",
    "print(reduced_topics)"
   ]
  },
  {
   "cell_type": "code",
   "execution_count": 388,
   "metadata": {},
   "outputs": [],
   "source": [
    "reduced_entries = []\n",
    "for entry in all_entries:\n",
    "    reduced_entries.append({k: entry.get(k, None) for k in keys_to_keep})"
   ]
  },
  {
   "cell_type": "code",
   "execution_count": 389,
   "metadata": {},
   "outputs": [
    {
     "name": "stdout",
     "output_type": "stream",
     "text": [
      "[{'user_name': 'Jerry Liu', 'created_at': '2019-03-30T18:27:49Z', 'message': '<p>testing reply</p>', 'discussion_id': 265842, 'id': 784631, 'parent_id': 784624}, {'user_name': 'Tianzong Chen', 'created_at': '2019-03-30T18:36:57Z', 'message': '<p>Same</p>', 'discussion_id': 265840, 'id': 784650, 'parent_id': 784633}, {'user_name': 'Shuai Wang', 'created_at': '2019-03-30T17:16:07Z', 'message': '<p>would this reply make a difference ?\\xa0</p>', 'discussion_id': 265827, 'id': 784496, 'parent_id': 784494}, {'user_name': 'Eduardo Muntaner Garcia', 'created_at': '2019-03-30T18:34:27Z', 'message': '<p>U r dum</p>', 'discussion_id': 265808, 'id': 784644, 'parent_id': 784429}, {'user_name': 'William Engle', 'created_at': '2019-03-30T16:26:21Z', 'message': '<p>I sometimes put mustard on fries (it can be good)!</p>', 'discussion_id': 265808, 'id': 784432, 'parent_id': 784395}, {'user_name': 'Michelle Gu', 'created_at': '2019-03-30T16:10:39Z', 'message': '<p>Take the elevator</p>', 'discussion_id': 265697, 'id': 784410, 'parent_id': 784404}, {'user_name': 'William Engle', 'created_at': '2019-03-30T15:28:42Z', 'message': '<p>Thanks! That was a good call and something that is important.</p>', 'discussion_id': 265697, 'id': 784368, 'parent_id': 783338}, {'user_name': 'Alison Myers', 'created_at': '2019-03-30T01:52:41Z', 'message': 'Very good point. Thank you.\\xa0', 'discussion_id': 259726, 'id': 783557, 'parent_id': 783277}, {'user_name': 'Towela Tembo', 'created_at': '2019-03-30T17:58:12Z', 'message': '<p>Laurel!</p>', 'discussion_id': 259704, 'id': 784582, 'parent_id': 783093}, {'user_name': 'Towela Tembo', 'created_at': '2019-03-30T17:57:56Z', 'message': '<p>Laurel!</p>', 'discussion_id': 259704, 'id': 784581, 'parent_id': 782889}, {'user_name': 'Luanna Lin', 'created_at': '2019-03-30T17:45:31Z', 'message': '<p>me too :)</p>', 'discussion_id': 259702, 'id': 784555, 'parent_id': 784514}, {'user_name': 'Eduardo Muntaner Garcia', 'created_at': '2019-03-27T18:50:11Z', 'message': '<p>White and gold.</p>', 'discussion_id': 259702, 'id': 778268, 'parent_id': 774674}, {'user_name': 'Estella Wang', 'created_at': '2019-03-30T21:09:09Z', 'message': '<p>@</p>\\n<h2 class=\"discussion-title\" role=\"heading\" aria-level=\"2\"><a class=\"author student_context_card_trigger\" title=\"Author\\'s name\" href=\"https://canvas.ubc.ca/courses/30739/users/60563\" data-student_id=\"60563\" data-course_id=\"30739\" data-bypass=\"\">Patricia Varao Sousa</a></h2>', 'discussion_id': 259571, 'id': 784872, 'parent_id': 784864}, {'user_name': 'Estella Wang', 'created_at': '2019-03-30T21:06:19Z', 'message': '<p>fff</p>', 'discussion_id': 259571, 'id': 784864, 'parent_id': 784863}, {'user_name': 'Estella Wang', 'created_at': '2019-03-30T21:06:06Z', 'message': '<p>good</p>', 'discussion_id': 259571, 'id': 784863, 'parent_id': 784440}, {'user_name': 'Kristo Krugger', 'created_at': '2019-03-30T16:10:13Z', 'message': '<p>Hi Alison, what would you say some of the limitations of using Tableau are?</p>', 'discussion_id': 259571, 'id': 784409, 'parent_id': 783568}, {'user_name': 'William Engle', 'created_at': '2019-03-30T15:39:36Z', 'message': \"<p>Hi Winnie,</p>\\n<p>I graduated from Slais (UBC's school of Library and Information Studies) and it's great to see some Library/Information Science folks here! I work at the Centre for Teaching, Learning &amp; Technology is a strategist for open education initiatives and will be generally helping out (and co-hosting the design thinking workshop on Friday).</p>\", 'discussion_id': 259571, 'id': 784372, 'parent_id': 784343}, {'user_name': 'Winnie LI', 'created_at': '2019-03-30T14:24:41Z', 'message': 'Hi Alison, I am Winnie, a graduate student in library and information studies. In my previous employment, I used QlikView and QlikSense to do data visualization as my previous company chose to buy Qlik instead of Tableau. I am looking forward to learning Tableau.', 'discussion_id': 259571, 'id': 784343, 'parent_id': 783568}, {'user_name': 'Firas Moosvi', 'created_at': '2019-03-29T21:38:31Z', 'message': '<p>Hi Kofi ! Look forward to having you there</p>', 'discussion_id': 259571, 'id': 783105, 'parent_id': 782900}, {'user_name': 'Firas Moosvi', 'created_at': '2019-03-29T21:38:05Z', 'message': '<p>Cute panda!</p>', 'discussion_id': 259571, 'id': 783104, 'parent_id': 761405}, {'user_name': 'Alison Myers', 'created_at': '2019-03-19T19:20:15Z', 'message': '<p>a second reply to the original post</p>', 'discussion_id': 259571, 'id': 759078, 'parent_id': 759075}, {'user_name': 'Alison Myers', 'created_at': '2019-03-19T19:20:06Z', 'message': '<p>and again, replying to a reply. to myself.</p>', 'discussion_id': 259571, 'id': 759077, 'parent_id': 759076}, {'user_name': 'Alison Myers', 'created_at': '2019-03-19T19:19:55Z', 'message': '<p>Here I am replying to myself.</p>', 'discussion_id': 259571, 'id': 759076, 'parent_id': 759075}]\n"
     ]
    }
   ],
   "source": [
    "reduced_replies = []\n",
    "for topic in all_replies:\n",
    "    reduced_replies.append({k: topic.get(k, None) for k in keys_to_keep})\n",
    "print(reduced_replies)"
   ]
  },
  {
   "cell_type": "markdown",
   "metadata": {},
   "source": [
    "## Merging data\n",
    "\n",
    "now that we've extacted common keys from the three discussion post types, we can group them together into one data structure"
   ]
  },
  {
   "cell_type": "code",
   "execution_count": 390,
   "metadata": {},
   "outputs": [],
   "source": [
    "all_posts = reduced_topics+reduced_entries+reduced_replies"
   ]
  },
  {
   "cell_type": "markdown",
   "metadata": {},
   "source": [
    "## Pandas\n",
    "\n",
    "docs: http://pandas.pydata.org/pandas-docs/stable/\n",
    "\n",
    "We are going to create a dataframe from the list-of-dictionaries data that we have.\n",
    "\n",
    "A dataframe is a table-like data structure that allows for powerful row-wise or column-wise slicing, dicing, or aggregating"
   ]
  },
  {
   "cell_type": "code",
   "execution_count": 391,
   "metadata": {},
   "outputs": [],
   "source": [
    "df = pd.DataFrame(all_posts)\n",
    "df.to_csv('all_posts.csv', header=True, index=False)"
   ]
  },
  {
   "cell_type": "code",
   "execution_count": 392,
   "metadata": {},
   "outputs": [
    {
     "data": {
      "text/html": [
       "<div>\n",
       "<style scoped>\n",
       "    .dataframe tbody tr th:only-of-type {\n",
       "        vertical-align: middle;\n",
       "    }\n",
       "\n",
       "    .dataframe tbody tr th {\n",
       "        vertical-align: top;\n",
       "    }\n",
       "\n",
       "    .dataframe thead th {\n",
       "        text-align: right;\n",
       "    }\n",
       "</style>\n",
       "<table border=\"1\" class=\"dataframe\">\n",
       "  <thead>\n",
       "    <tr style=\"text-align: right;\">\n",
       "      <th></th>\n",
       "      <th>created_at</th>\n",
       "      <th>discussion_id</th>\n",
       "      <th>id</th>\n",
       "      <th>message</th>\n",
       "      <th>parent_id</th>\n",
       "      <th>user_name</th>\n",
       "    </tr>\n",
       "  </thead>\n",
       "  <tbody>\n",
       "    <tr>\n",
       "      <th>56</th>\n",
       "      <td>2019-03-30T18:27:20Z</td>\n",
       "      <td>259704.0</td>\n",
       "      <td>784630</td>\n",
       "      <td>&lt;p&gt;Both&lt;/p&gt;</td>\n",
       "      <td>NaN</td>\n",
       "      <td>Daniel Liu</td>\n",
       "    </tr>\n",
       "    <tr>\n",
       "      <th>57</th>\n",
       "      <td>2019-03-30T18:25:20Z</td>\n",
       "      <td>259704.0</td>\n",
       "      <td>784622</td>\n",
       "      <td>&lt;p&gt;Yanny &lt;/p&gt;</td>\n",
       "      <td>NaN</td>\n",
       "      <td>Tianzong Chen</td>\n",
       "    </tr>\n",
       "    <tr>\n",
       "      <th>58</th>\n",
       "      <td>2019-03-30T17:44:25Z</td>\n",
       "      <td>259704.0</td>\n",
       "      <td>784551</td>\n",
       "      <td>&lt;p&gt;I heard Laurel!&lt;/p&gt;</td>\n",
       "      <td>NaN</td>\n",
       "      <td>Luanna Lin</td>\n",
       "    </tr>\n",
       "    <tr>\n",
       "      <th>59</th>\n",
       "      <td>2019-03-30T16:12:01Z</td>\n",
       "      <td>259704.0</td>\n",
       "      <td>784415</td>\n",
       "      <td>&lt;p&gt;Yanny&lt;/p&gt;</td>\n",
       "      <td>NaN</td>\n",
       "      <td>Michelle Gu</td>\n",
       "    </tr>\n",
       "    <tr>\n",
       "      <th>60</th>\n",
       "      <td>2019-03-30T16:10:48Z</td>\n",
       "      <td>259704.0</td>\n",
       "      <td>784411</td>\n",
       "      <td>&lt;p&gt;Laurel.&lt;/p&gt;</td>\n",
       "      <td>NaN</td>\n",
       "      <td>Munkhtur Myagmar</td>\n",
       "    </tr>\n",
       "    <tr>\n",
       "      <th>61</th>\n",
       "      <td>2019-03-30T16:07:57Z</td>\n",
       "      <td>259704.0</td>\n",
       "      <td>784402</td>\n",
       "      <td>&lt;p&gt;Laurel&lt;/p&gt;</td>\n",
       "      <td>NaN</td>\n",
       "      <td>Patricia Varao Sousa</td>\n",
       "    </tr>\n",
       "    <tr>\n",
       "      <th>62</th>\n",
       "      <td>2019-03-30T16:07:46Z</td>\n",
       "      <td>259704.0</td>\n",
       "      <td>784401</td>\n",
       "      <td>Yanny</td>\n",
       "      <td>NaN</td>\n",
       "      <td>Winnie LI</td>\n",
       "    </tr>\n",
       "    <tr>\n",
       "      <th>63</th>\n",
       "      <td>2019-03-30T16:01:07Z</td>\n",
       "      <td>259704.0</td>\n",
       "      <td>784392</td>\n",
       "      <td>&lt;p&gt;Laurel!&lt;/p&gt;</td>\n",
       "      <td>NaN</td>\n",
       "      <td>Brooke Dai</td>\n",
       "    </tr>\n",
       "    <tr>\n",
       "      <th>64</th>\n",
       "      <td>2019-03-30T15:59:33Z</td>\n",
       "      <td>259704.0</td>\n",
       "      <td>784388</td>\n",
       "      <td>&lt;p&gt;Yanny &lt;/p&gt;</td>\n",
       "      <td>NaN</td>\n",
       "      <td>Cindy Cen</td>\n",
       "    </tr>\n",
       "    <tr>\n",
       "      <th>65</th>\n",
       "      <td>2019-03-30T15:59:01Z</td>\n",
       "      <td>259704.0</td>\n",
       "      <td>784387</td>\n",
       "      <td>&lt;p&gt;Laurel&lt;/p&gt;</td>\n",
       "      <td>NaN</td>\n",
       "      <td>Harrison Lee</td>\n",
       "    </tr>\n",
       "    <tr>\n",
       "      <th>66</th>\n",
       "      <td>2019-03-30T15:04:34Z</td>\n",
       "      <td>259704.0</td>\n",
       "      <td>784356</td>\n",
       "      <td>&lt;p&gt;Yanny!&lt;/p&gt;</td>\n",
       "      <td>NaN</td>\n",
       "      <td>Surohit Tandon</td>\n",
       "    </tr>\n",
       "    <tr>\n",
       "      <th>67</th>\n",
       "      <td>2019-03-30T06:35:32Z</td>\n",
       "      <td>259704.0</td>\n",
       "      <td>784058</td>\n",
       "      <td>&lt;p&gt;Laurel?&lt;/p&gt;</td>\n",
       "      <td>NaN</td>\n",
       "      <td>Farbod Chamanian</td>\n",
       "    </tr>\n",
       "    <tr>\n",
       "      <th>68</th>\n",
       "      <td>2019-03-30T06:05:17Z</td>\n",
       "      <td>259704.0</td>\n",
       "      <td>783997</td>\n",
       "      <td>&lt;p&gt;LAUREL LAUREL LAUREL... who is LAUREL?&lt;/p&gt;</td>\n",
       "      <td>NaN</td>\n",
       "      <td>Michael Oliver</td>\n",
       "    </tr>\n",
       "    <tr>\n",
       "      <th>69</th>\n",
       "      <td>2019-03-30T04:01:41Z</td>\n",
       "      <td>259704.0</td>\n",
       "      <td>783763</td>\n",
       "      <td>&lt;p&gt;Laurel&lt;/p&gt;</td>\n",
       "      <td>NaN</td>\n",
       "      <td>James Shen</td>\n",
       "    </tr>\n",
       "    <tr>\n",
       "      <th>70</th>\n",
       "      <td>2019-03-29T22:50:24Z</td>\n",
       "      <td>259704.0</td>\n",
       "      <td>783264</td>\n",
       "      <td>&lt;p&gt;&lt;em&gt;Laurel&lt;/em&gt;&lt;/p&gt;</td>\n",
       "      <td>NaN</td>\n",
       "      <td>Ao Lin Gong</td>\n",
       "    </tr>\n",
       "    <tr>\n",
       "      <th>71</th>\n",
       "      <td>2019-03-29T21:35:58Z</td>\n",
       "      <td>259704.0</td>\n",
       "      <td>783093</td>\n",
       "      <td>&lt;p&gt;Laurel&lt;/p&gt;</td>\n",
       "      <td>NaN</td>\n",
       "      <td>Ju Hee Park</td>\n",
       "    </tr>\n",
       "    <tr>\n",
       "      <th>72</th>\n",
       "      <td>2019-03-29T20:13:48Z</td>\n",
       "      <td>259704.0</td>\n",
       "      <td>782889</td>\n",
       "      <td>&lt;p&gt;Yanny!&lt;/p&gt;</td>\n",
       "      <td>NaN</td>\n",
       "      <td>Kofi Buahin</td>\n",
       "    </tr>\n",
       "    <tr>\n",
       "      <th>73</th>\n",
       "      <td>2019-03-27T18:50:25Z</td>\n",
       "      <td>259704.0</td>\n",
       "      <td>778269</td>\n",
       "      <td>&lt;p&gt;Yanny!&lt;/p&gt;</td>\n",
       "      <td>NaN</td>\n",
       "      <td>Eduardo Muntaner Garcia</td>\n",
       "    </tr>\n",
       "    <tr>\n",
       "      <th>111</th>\n",
       "      <td>2019-03-30T17:58:12Z</td>\n",
       "      <td>259704.0</td>\n",
       "      <td>784582</td>\n",
       "      <td>&lt;p&gt;Laurel!&lt;/p&gt;</td>\n",
       "      <td>783093.0</td>\n",
       "      <td>Towela Tembo</td>\n",
       "    </tr>\n",
       "    <tr>\n",
       "      <th>112</th>\n",
       "      <td>2019-03-30T17:57:56Z</td>\n",
       "      <td>259704.0</td>\n",
       "      <td>784581</td>\n",
       "      <td>&lt;p&gt;Laurel!&lt;/p&gt;</td>\n",
       "      <td>782889.0</td>\n",
       "      <td>Towela Tembo</td>\n",
       "    </tr>\n",
       "  </tbody>\n",
       "</table>\n",
       "</div>"
      ],
      "text/plain": [
       "               created_at  discussion_id      id  \\\n",
       "56   2019-03-30T18:27:20Z       259704.0  784630   \n",
       "57   2019-03-30T18:25:20Z       259704.0  784622   \n",
       "58   2019-03-30T17:44:25Z       259704.0  784551   \n",
       "59   2019-03-30T16:12:01Z       259704.0  784415   \n",
       "60   2019-03-30T16:10:48Z       259704.0  784411   \n",
       "61   2019-03-30T16:07:57Z       259704.0  784402   \n",
       "62   2019-03-30T16:07:46Z       259704.0  784401   \n",
       "63   2019-03-30T16:01:07Z       259704.0  784392   \n",
       "64   2019-03-30T15:59:33Z       259704.0  784388   \n",
       "65   2019-03-30T15:59:01Z       259704.0  784387   \n",
       "66   2019-03-30T15:04:34Z       259704.0  784356   \n",
       "67   2019-03-30T06:35:32Z       259704.0  784058   \n",
       "68   2019-03-30T06:05:17Z       259704.0  783997   \n",
       "69   2019-03-30T04:01:41Z       259704.0  783763   \n",
       "70   2019-03-29T22:50:24Z       259704.0  783264   \n",
       "71   2019-03-29T21:35:58Z       259704.0  783093   \n",
       "72   2019-03-29T20:13:48Z       259704.0  782889   \n",
       "73   2019-03-27T18:50:25Z       259704.0  778269   \n",
       "111  2019-03-30T17:58:12Z       259704.0  784582   \n",
       "112  2019-03-30T17:57:56Z       259704.0  784581   \n",
       "\n",
       "                                           message  parent_id  \\\n",
       "56                                     <p>Both</p>        NaN   \n",
       "57                                   <p>Yanny </p>        NaN   \n",
       "58                          <p>I heard Laurel!</p>        NaN   \n",
       "59                                    <p>Yanny</p>        NaN   \n",
       "60                                  <p>Laurel.</p>        NaN   \n",
       "61                                   <p>Laurel</p>        NaN   \n",
       "62                                           Yanny        NaN   \n",
       "63                                  <p>Laurel!</p>        NaN   \n",
       "64                                   <p>Yanny </p>        NaN   \n",
       "65                                   <p>Laurel</p>        NaN   \n",
       "66                                   <p>Yanny!</p>        NaN   \n",
       "67                                  <p>Laurel?</p>        NaN   \n",
       "68   <p>LAUREL LAUREL LAUREL... who is LAUREL?</p>        NaN   \n",
       "69                                   <p>Laurel</p>        NaN   \n",
       "70                          <p><em>Laurel</em></p>        NaN   \n",
       "71                                   <p>Laurel</p>        NaN   \n",
       "72                                   <p>Yanny!</p>        NaN   \n",
       "73                                   <p>Yanny!</p>        NaN   \n",
       "111                                 <p>Laurel!</p>   783093.0   \n",
       "112                                 <p>Laurel!</p>   782889.0   \n",
       "\n",
       "                   user_name  \n",
       "56                Daniel Liu  \n",
       "57             Tianzong Chen  \n",
       "58                Luanna Lin  \n",
       "59               Michelle Gu  \n",
       "60          Munkhtur Myagmar  \n",
       "61      Patricia Varao Sousa  \n",
       "62                 Winnie LI  \n",
       "63                Brooke Dai  \n",
       "64                 Cindy Cen  \n",
       "65              Harrison Lee  \n",
       "66            Surohit Tandon  \n",
       "67          Farbod Chamanian  \n",
       "68            Michael Oliver  \n",
       "69                James Shen  \n",
       "70               Ao Lin Gong  \n",
       "71               Ju Hee Park  \n",
       "72               Kofi Buahin  \n",
       "73   Eduardo Muntaner Garcia  \n",
       "111             Towela Tembo  \n",
       "112             Towela Tembo  "
      ]
     },
     "execution_count": 392,
     "metadata": {},
     "output_type": "execute_result"
    }
   ],
   "source": [
    "# select only the rows of the dataframe from a particular discussion\n",
    "df[df['discussion_id']==259704]"
   ]
  },
  {
   "cell_type": "code",
   "execution_count": 393,
   "metadata": {},
   "outputs": [
    {
     "data": {
      "text/plain": [
       "0                   Will Zhang\n",
       "1                    Jerry Liu\n",
       "2                  Ju Hee Park\n",
       "3                   Bruce Zhao\n",
       "4                Dhruv Mahajan\n",
       "5            Abigail Climacosa\n",
       "6                 Alison Myers\n",
       "7                William Engle\n",
       "8                Erica Commons\n",
       "9                 Alison Myers\n",
       "10                Alison Myers\n",
       "11                Alison Myers\n",
       "12                        None\n",
       "13                        None\n",
       "14                        None\n",
       "15                        None\n",
       "16                        None\n",
       "17                  Will Zhang\n",
       "18                   Jerry Liu\n",
       "19               Alexandra Gil\n",
       "20                  Daniel Liu\n",
       "21                   Jerry Liu\n",
       "22           Abigail Climacosa\n",
       "23                 Nakul Gupta\n",
       "24              Dong-Tao Zhang\n",
       "25                  Shuai Wang\n",
       "26                  Bruce Zhao\n",
       "27        Patricia Varao Sousa\n",
       "28           Abigail Climacosa\n",
       "29                Gagan Bhatia\n",
       "                ...           \n",
       "96        Patricia Varao Sousa\n",
       "97              Surohit Tandon\n",
       "98                Alison Myers\n",
       "99                 Kofi Buahin\n",
       "100                 Justin Lee\n",
       "101                 Justin Lee\n",
       "102               Alison Myers\n",
       "103                  Jerry Liu\n",
       "104              Tianzong Chen\n",
       "105                 Shuai Wang\n",
       "106    Eduardo Muntaner Garcia\n",
       "107              William Engle\n",
       "108                Michelle Gu\n",
       "109              William Engle\n",
       "110               Alison Myers\n",
       "111               Towela Tembo\n",
       "112               Towela Tembo\n",
       "113                 Luanna Lin\n",
       "114    Eduardo Muntaner Garcia\n",
       "115               Estella Wang\n",
       "116               Estella Wang\n",
       "117               Estella Wang\n",
       "118             Kristo Krugger\n",
       "119              William Engle\n",
       "120                  Winnie LI\n",
       "121               Firas Moosvi\n",
       "122               Firas Moosvi\n",
       "123               Alison Myers\n",
       "124               Alison Myers\n",
       "125               Alison Myers\n",
       "Name: user_name, Length: 126, dtype: object"
      ]
     },
     "execution_count": 393,
     "metadata": {},
     "output_type": "execute_result"
    }
   ],
   "source": [
    "# select only one column from the dataframe\n",
    "df['user_name']"
   ]
  },
  {
   "cell_type": "code",
   "execution_count": 394,
   "metadata": {},
   "outputs": [
    {
     "data": {
      "text/plain": [
       "56                  Daniel Liu\n",
       "57               Tianzong Chen\n",
       "58                  Luanna Lin\n",
       "59                 Michelle Gu\n",
       "60            Munkhtur Myagmar\n",
       "61        Patricia Varao Sousa\n",
       "62                   Winnie LI\n",
       "63                  Brooke Dai\n",
       "64                   Cindy Cen\n",
       "65                Harrison Lee\n",
       "66              Surohit Tandon\n",
       "67            Farbod Chamanian\n",
       "68              Michael Oliver\n",
       "69                  James Shen\n",
       "70                 Ao Lin Gong\n",
       "71                 Ju Hee Park\n",
       "72                 Kofi Buahin\n",
       "73     Eduardo Muntaner Garcia\n",
       "111               Towela Tembo\n",
       "112               Towela Tembo\n",
       "Name: user_name, dtype: object"
      ]
     },
     "execution_count": 394,
     "metadata": {},
     "output_type": "execute_result"
    }
   ],
   "source": [
    "# combining the above, we can get a listing of just the user names from a particular discussion\n",
    "df[df['discussion_id']==259704]['user_name']"
   ]
  },
  {
   "cell_type": "markdown",
   "metadata": {},
   "source": [
    "### Aggregating in Pandas\n",
    "Here we are going to print the total number of discussion topics/entries/replies for each user."
   ]
  },
  {
   "cell_type": "code",
   "execution_count": 395,
   "metadata": {},
   "outputs": [
    {
     "name": "stdout",
     "output_type": "stream",
     "text": [
      "                  user_name  count\n",
      "0              Alison Myers     10\n",
      "1             William Engle      6\n",
      "2      Patricia Varao Sousa      5\n",
      "3                Shuai Wang      5\n",
      "4               Nakul Gupta      4\n",
      "5                 Jerry Liu      4\n",
      "6         Abigail Climacosa      4\n",
      "7                 Winnie LI      4\n",
      "8   Eduardo Muntaner Garcia      4\n",
      "9            Kristo Krugger      3\n",
      "10               Bruce Zhao      3\n",
      "11             Estella Wang      3\n",
      "12            Alexandra Gil      3\n",
      "13              Michelle Gu      3\n",
      "14           Surohit Tandon      3\n",
      "15            Tianzong Chen      3\n",
      "16              Ao Lin Gong      3\n",
      "17               Daniel Liu      3\n",
      "18               James Shen      3\n",
      "19             Towela Tembo      3\n",
      "20         Munkhtur Myagmar      3\n",
      "21              Ju Hee Park      3\n",
      "22              Kofi Buahin      3\n",
      "23               Luanna Lin      2\n",
      "24                Cindy Cen      2\n",
      "25            Aaron Ngu Ngu      2\n",
      "26         Farbod Chamanian      2\n",
      "27               Brooke Dai      2\n",
      "28            Erica Commons      2\n",
      "29           Michael Oliver      2\n",
      "30             Firas Moosvi      2\n",
      "31               Will Zhang      2\n",
      "32            Dhruv Mahajan      2\n",
      "33               Justin Lee      2\n",
      "34             Harrison Lee      2\n",
      "35   Javier Sarria Bastidas      1\n",
      "36                  Roy Shi      1\n",
      "37                 Leqi Wan      1\n",
      "38                Xindi Wei      1\n",
      "39                 Peter Ko      1\n",
      "40                Yilin Wei      1\n",
      "41           Dong-Tao Zhang      1\n",
      "42             Gagan Bhatia      1\n",
      "43            Aliya Mohamed      1\n"
     ]
    }
   ],
   "source": [
    "posts_per_user = df['user_name'].value_counts().reset_index()\n",
    "posts_per_user.columns = ['user_name', 'count']\n",
    "posts_per_user.to_csv('posts_per_user.csv', header=True, index=False)\n",
    "print(posts_per_user)"
   ]
  },
  {
   "cell_type": "markdown",
   "metadata": {},
   "source": [
    "## What next?\n",
    "\n",
    "Try doing some more data exploration and manipulation!\n",
    "\n",
    "Here are some ideas:\n",
    "\n",
    "* Use pandas to find all your discussion posts\n",
    "* Use pandas to count the number of entries/replies in each discussion topic\n",
    "* Count the number of posts by day\n",
    "* Extract the message contents and count certain words"
   ]
  },
  {
   "cell_type": "code",
   "execution_count": 396,
   "metadata": {},
   "outputs": [
    {
     "data": {
      "text/html": [
       "<div>\n",
       "<style scoped>\n",
       "    .dataframe tbody tr th:only-of-type {\n",
       "        vertical-align: middle;\n",
       "    }\n",
       "\n",
       "    .dataframe tbody tr th {\n",
       "        vertical-align: top;\n",
       "    }\n",
       "\n",
       "    .dataframe thead th {\n",
       "        text-align: right;\n",
       "    }\n",
       "</style>\n",
       "<table border=\"1\" class=\"dataframe\">\n",
       "  <thead>\n",
       "    <tr style=\"text-align: right;\">\n",
       "      <th></th>\n",
       "      <th>created_at</th>\n",
       "      <th>discussion_id</th>\n",
       "      <th>id</th>\n",
       "      <th>message</th>\n",
       "      <th>parent_id</th>\n",
       "      <th>user_name</th>\n",
       "    </tr>\n",
       "  </thead>\n",
       "  <tbody>\n",
       "    <tr>\n",
       "      <th>52</th>\n",
       "      <td>2019-03-30T16:09:02Z</td>\n",
       "      <td>265697.0</td>\n",
       "      <td>784404</td>\n",
       "      <td>&lt;p&gt;The stair case entrance upstairs is locked ...</td>\n",
       "      <td>NaN</td>\n",
       "      <td>Surohit Tandon</td>\n",
       "    </tr>\n",
       "    <tr>\n",
       "      <th>66</th>\n",
       "      <td>2019-03-30T15:04:34Z</td>\n",
       "      <td>259704.0</td>\n",
       "      <td>784356</td>\n",
       "      <td>&lt;p&gt;Yanny!&lt;/p&gt;</td>\n",
       "      <td>NaN</td>\n",
       "      <td>Surohit Tandon</td>\n",
       "    </tr>\n",
       "    <tr>\n",
       "      <th>97</th>\n",
       "      <td>2019-03-30T15:08:21Z</td>\n",
       "      <td>259571.0</td>\n",
       "      <td>784357</td>\n",
       "      <td>&lt;p&gt;Hey all, my name is Surohit Tandon.I am exc...</td>\n",
       "      <td>NaN</td>\n",
       "      <td>Surohit Tandon</td>\n",
       "    </tr>\n",
       "  </tbody>\n",
       "</table>\n",
       "</div>"
      ],
      "text/plain": [
       "              created_at  discussion_id      id  \\\n",
       "52  2019-03-30T16:09:02Z       265697.0  784404   \n",
       "66  2019-03-30T15:04:34Z       259704.0  784356   \n",
       "97  2019-03-30T15:08:21Z       259571.0  784357   \n",
       "\n",
       "                                              message  parent_id  \\\n",
       "52  <p>The stair case entrance upstairs is locked ...        NaN   \n",
       "66                                      <p>Yanny!</p>        NaN   \n",
       "97  <p>Hey all, my name is Surohit Tandon.I am exc...        NaN   \n",
       "\n",
       "         user_name  \n",
       "52  Surohit Tandon  \n",
       "66  Surohit Tandon  \n",
       "97  Surohit Tandon  "
      ]
     },
     "execution_count": 396,
     "metadata": {},
     "output_type": "execute_result"
    }
   ],
   "source": [
    "df[df.user_name == \"Surohit Tandon\"]"
   ]
  },
  {
   "cell_type": "code",
   "execution_count": 397,
   "metadata": {},
   "outputs": [],
   "source": [
    "All_Keys = ['id', 'title','posted_at', 'assignment_id', 'author', 'url', 'course_id'\n",
    "            ,'user_name', 'created_at', 'message', 'discussion_id', 'id', 'parent_id']"
   ]
  },
  {
   "cell_type": "code",
   "execution_count": 398,
   "metadata": {},
   "outputs": [],
   "source": [
    "reduced_topics2 = []\n",
    "for topic in all_topics:\n",
    "    reduced_topics2.append({k: topic.get(k, None) for k in All_Keys})\n"
   ]
  },
  {
   "cell_type": "code",
   "execution_count": 399,
   "metadata": {},
   "outputs": [],
   "source": [
    "reduced_entries2 = []\n",
    "for entry in all_entries:\n",
    "    reduced_entries2.append({k: entry.get(k, None) for k in All_Keys})"
   ]
  },
  {
   "cell_type": "code",
   "execution_count": 400,
   "metadata": {},
   "outputs": [],
   "source": [
    "reduced_replies2 = []\n",
    "for topic in all_replies:\n",
    "    reduced_replies2.append({k: topic.get(k, None) for k in All_Keys})\n"
   ]
  },
  {
   "cell_type": "code",
   "execution_count": 401,
   "metadata": {},
   "outputs": [],
   "source": [
    "all_posts2 = reduced_topics2+reduced_entries2+reduced_replies2"
   ]
  },
  {
   "cell_type": "code",
   "execution_count": 402,
   "metadata": {},
   "outputs": [],
   "source": [
    "df2 = pd.DataFrame(all_posts2)\n",
    "df2.to_csv('all_posts2.csv', header=True, index=False)"
   ]
  },
  {
   "cell_type": "code",
   "execution_count": 403,
   "metadata": {},
   "outputs": [],
   "source": [
    "numbs = df2.shape[0]"
   ]
  },
  {
   "cell_type": "code",
   "execution_count": 404,
   "metadata": {},
   "outputs": [
    {
     "data": {
      "text/plain": [
       "46719"
      ]
     },
     "execution_count": 404,
     "metadata": {},
     "output_type": "execute_result"
    }
   ],
   "source": [
    "df2.author[4]['id']"
   ]
  },
  {
   "cell_type": "code",
   "execution_count": 405,
   "metadata": {
    "scrolled": true
   },
   "outputs": [
    {
     "data": {
      "text/plain": [
       "[{'id': 14655,\n",
       "  'display_name': 'Will Zhang',\n",
       "  'avatar_image_url': 'https://canvas.ubc.ca/images/messages/avatar-50.png',\n",
       "  'html_url': 'https://canvas.ubc.ca/courses/30739/users/14655'},\n",
       " {'id': 42040,\n",
       "  'display_name': 'Jerry Liu',\n",
       "  'avatar_image_url': 'https://canvas.ubc.ca/images/messages/avatar-50.png',\n",
       "  'html_url': 'https://canvas.ubc.ca/courses/30739/users/42040'},\n",
       " {'id': 12463,\n",
       "  'display_name': 'Ju Hee Park',\n",
       "  'avatar_image_url': 'https://canvas.ubc.ca/images/messages/avatar-50.png',\n",
       "  'html_url': 'https://canvas.ubc.ca/courses/30739/users/12463'},\n",
       " {'id': 215503,\n",
       "  'display_name': 'Bruce Zhao',\n",
       "  'avatar_image_url': 'https://canvas.ubc.ca/images/messages/avatar-50.png',\n",
       "  'html_url': 'https://canvas.ubc.ca/courses/30739/users/215503'},\n",
       " {'id': 46719,\n",
       "  'display_name': 'Dhruv Mahajan',\n",
       "  'avatar_image_url': 'https://canvas.ubc.ca/images/messages/avatar-50.png',\n",
       "  'html_url': 'https://canvas.ubc.ca/courses/30739/users/46719'},\n",
       " {'id': 15854,\n",
       "  'display_name': 'Abigail Climacosa',\n",
       "  'avatar_image_url': 'https://canvas.ubc.ca/images/messages/avatar-50.png',\n",
       "  'html_url': 'https://canvas.ubc.ca/courses/30739/users/15854'},\n",
       " {'id': 185698,\n",
       "  'display_name': 'Alison Myers',\n",
       "  'avatar_image_url': 'https://canvas.ubc.ca/images/thumbnails/3669192/YXnVaQagy3XGZe4L8gPKNGfx93AqbMQpidngGFKi',\n",
       "  'html_url': 'https://canvas.ubc.ca/courses/30739/users/185698'},\n",
       " {'id': 9814,\n",
       "  'display_name': 'William Engle',\n",
       "  'avatar_image_url': 'https://canvas.ubc.ca/images/thumbnails/162417/MTiUtXEAqsjRGjuxUwTzy12CYZKE7QBER72E5qtK',\n",
       "  'html_url': 'https://canvas.ubc.ca/courses/30739/users/9814'},\n",
       " {'id': 118474,\n",
       "  'display_name': 'Erica Commons',\n",
       "  'avatar_image_url': 'https://canvas.ubc.ca/images/thumbnails/1888216/K2OqlnqVrKLHkWkyknVyKvDBFbiXF5Lg3ZFvd8C6',\n",
       "  'html_url': 'https://canvas.ubc.ca/courses/30739/users/118474'}]"
      ]
     },
     "execution_count": 405,
     "metadata": {},
     "output_type": "execute_result"
    }
   ],
   "source": [
    "author_ids = []\n",
    "for n in range(numbs):\n",
    "    ids = df2.author[n]\n",
    "    author_ids.append(ids)\n",
    "    del author_ids[9:]\n",
    "author_ids"
   ]
  },
  {
   "cell_type": "code",
   "execution_count": 406,
   "metadata": {},
   "outputs": [
    {
     "data": {
      "text/plain": [
       "[14655, 42040, 12463, 215503, 46719, 15854, 185698, 9814, 118474]"
      ]
     },
     "execution_count": 406,
     "metadata": {},
     "output_type": "execute_result"
    }
   ],
   "source": [
    "author_ids_nums = []\n",
    "for i in range(9):\n",
    "    author_ids_nums.append(author_ids[i]['id'])\n",
    "author_ids_nums"
   ]
  },
  {
   "cell_type": "code",
   "execution_count": 457,
   "metadata": {},
   "outputs": [],
   "source": [
    "messages = df2.message.copy()"
   ]
  },
  {
   "cell_type": "code",
   "execution_count": 458,
   "metadata": {},
   "outputs": [
    {
     "data": {
      "text/plain": [
       "0                                                       \n",
       "1                                                       \n",
       "2                                                       \n",
       "3                                    I m playing Sekiro \n",
       "4                                                       \n",
       "5         What are your top 3 food spots on near campus \n",
       "6      Ketchup or mustard  You must pick one  Defend ...\n",
       "7      If you re interested in learning analytics   t...\n",
       "8                                                       \n",
       "9       iframe src  https   www youtube com embed DK ...\n",
       "10      iframe src  https   www youtube com embed Ddv...\n",
       "11      a href  https   en wikipedia org wiki The dre...\n",
       "12     Use this as a space to introduce yourselves   ...\n",
       "13     Use this forum to share what you are doing  yo...\n",
       "14                    Have a general question  ask here \n",
       "15     Use this to discuss any shortcomings of the Ca...\n",
       "16     Is there something you think is technically po...\n",
       "17                                                     1\n",
       "18                                         testing entry\n",
       "19                                         Nitobe garden\n",
       "20                                               My dorm\n",
       "21                                               testing\n",
       "22                                 cyan wave1  Runescape\n",
       "23                              Shadow of war    p   p  \n",
       "24                                          I don t know\n",
       "25                Love it  I love Pizzahut  Domino Pizza\n",
       "26                                 Love potato on pizza \n",
       "27                          Maybe fries but not potatoes\n",
       "28                                                      \n",
       "29                                  Pineapple on pizza  \n",
       "                             ...                        \n",
       "96     v class  discussion section message wrapper   ...\n",
       "97     Hey all  my name is Surohit Tandon I am excite...\n",
       "98     Hi  My name is Alison  I m a research analyst ...\n",
       "99     Hi Everybody  My name is Kofi and I m in my la...\n",
       "100                                      test test test \n",
       "101    How do links show up    p   p  a class    titl...\n",
       "102                           Here is a discussion post \n",
       "103                                        testing reply\n",
       "104                                                 Same\n",
       "105                would this reply make a difference   \n",
       "106                                              U r dum\n",
       "107    I sometimes put mustard on fries  it can be go...\n",
       "108                                    Take the elevator\n",
       "109    Thanks  That was a good call and something tha...\n",
       "110                                y good point  Thank y\n",
       "111                                              Laurel \n",
       "112                                              Laurel \n",
       "113                                            me too   \n",
       "114                                      White and gold \n",
       "115       p   h2 class  discussion title  role  headi...\n",
       "116                                                  fff\n",
       "117                                                 good\n",
       "118    Hi Alison  what would you say some of the limi...\n",
       "119    Hi Winnie   p   p I graduated from Slais  UBC ...\n",
       "120    Alison  I am Winnie  a graduate student in lib...\n",
       "121           Hi Kofi   Look forward to having you there\n",
       "122                                          Cute panda \n",
       "123                  a second reply to the original post\n",
       "124           and again  replying to a reply  to myself \n",
       "125                        Here I am replying to myself \n",
       "Name: message, Length: 126, dtype: object"
      ]
     },
     "execution_count": 458,
     "metadata": {},
     "output_type": "execute_result"
    }
   ],
   "source": [
    "for i in range(0,df2.shape[0]):\n",
    "    messages[i] = messages[i][3:-4]\n",
    "    messages[i] = re.sub(r\"[^a-zA-Z0-9]\",\" \",messages[i])\n",
    "messages\n"
   ]
  },
  {
   "cell_type": "code",
   "execution_count": 459,
   "metadata": {},
   "outputs": [
    {
     "name": "stdout",
     "output_type": "stream",
     "text": [
      "[nltk_data] Downloading package punkt to /home/jupyter/nltk_data...\n",
      "[nltk_data]   Package punkt is already up-to-date!\n",
      "[nltk_data] Downloading package wordnet to /home/jupyter/nltk_data...\n",
      "[nltk_data]   Package wordnet is already up-to-date!\n",
      "[nltk_data] Downloading package stopwords to\n",
      "[nltk_data]     /home/jupyter/nltk_data...\n",
      "[nltk_data]   Package stopwords is already up-to-date!\n"
     ]
    }
   ],
   "source": [
    "import nltk\n",
    "nltk.download('punkt')\n",
    "nltk.download('wordnet')\n",
    "from nltk.tokenize import word_tokenize\n",
    "nltk.download('stopwords')\n",
    "from nltk.corpus import stopwords\n",
    "def tokenize(text):\n",
    "    # Converting all text to lower case\n",
    "    text = text.lower()\n",
    "    \n",
    "    # Removing punctuation from all text\n",
    "    text = re.sub(r\"[^a-zA-Z0-9]\",\" \",text)\n",
    "    words = word_tokenize(text)\n",
    "    \n",
    "    # Removing stop words\n",
    "    new_words = []\n",
    "    for w in words:\n",
    "        if w not in stopwords.words('english'):\n",
    "            new_words.append(w)\n",
    "    \n",
    "    # Lemmatizing our new words\n",
    "    lemmatizer = WordNetLemmatizer()\n",
    "    \n",
    "    clean_tokens = []\n",
    "    for word in new_words:\n",
    "        clean_tok = lemmatizer.lemmatize(word).strip()\n",
    "        clean_tokens.append(clean_tok)\n",
    "\n",
    "    return clean_tokens"
   ]
  },
  {
   "cell_type": "code",
   "execution_count": 460,
   "metadata": {},
   "outputs": [],
   "source": [
    "from sklearn.feature_extraction.text import CountVectorizer\n",
    "vectorizer = CountVectorizer(tokenizer = tokenize)\n",
    "X = vectorizer.fit_transform(list(messages))\n"
   ]
  },
  {
   "cell_type": "code",
   "execution_count": 461,
   "metadata": {},
   "outputs": [
    {
     "name": "stdout",
     "output_type": "stream",
     "text": [
      "['03', '0jxpuir0', '1', '2', '20', '2019', '20stories', '2624', '3', '30739', '315', '375', '3966206353', '400', '41894164051', '500', '560', '5th', '60563', '89a2c7dd0b', 'ability', 'accelerometer', 'access', 'accessible', 'acknowledgement', 'action', 'alison', 'allow', 'allowfullscreen', 'along', 'also', 'alt', 'amp', 'analyst', 'analytic', 'analytics', 'another', 'anything', 'api', 'application', 'applies', 'apply', 'april', 'aria', 'ask', 'attend', 'author', 'autoplay', 'available', 'bag', 'banana', 'beginning', 'bind', 'bl', 'black', 'blue', 'bring', 'bringing', 'brought', 'business', 'buy', 'bypass', 'ca', 'cafe', 'call', 'campus', 'canvas', 'card', 'case', 'centre', 'chip', 'choice', 'choose', 'chose', 'chup', 'class', 'classic', 'clear', 'click', 'co', 'cog', 'cognitive', 'collaborate', 'com', 'come', 'company', 'condiment', 'conference', 'content', 'context', 'cookie', 'course', 'court', 'cute', 'cuz', 'cyan', 'dane', 'data', 'ddvn4wqjh6g', 'deadline', 'debate', 'defend', 'definitely', 'design', 'difference', 'disabled', 'disagree', 'discus', 'discussion', 'display', 'div', 'dk', 'doc', 'documented', 'dog', 'domino', 'dont', 'dorm', 'dqw4w9wgxcq', 'drag', 'dress', 'due', 'dum', 'e', 'easy', 'education', 'elevator', 'else', 'em', 'embed', 'employment', 'en', 'encrypted', 'endless', 'enhanced', 'enthusiast', 'entrance', 'entry', 'etc', 'european', 'even', 'event', 'everybody', 'excited', 'existing', 'experience', 'farm3', 'fatih', 'fear', 'feature', 'fff', 'fine', 'first', 'flickr', 'folk', 'font', 'food', 'forum', 'forward', 'free', 'friday', 'fry', 'fun', 'garden', 'general', 'generally', 'get', 'getting', 'go', 'gold', 'good', 'google', 'graduate', 'graduated', 'great', 'gyroscope', 'h2', 'hackathon', 'hackubc', 'hand', 'hate', 'heading', 'healthy', 'hear', 'heard', 'height', 'help', 'helping', 'hey', 'hi', 'homepage', 'honour', 'hoping', 'hosting', 'hot', 'href', 'html', 'http', 'human', 'id', 'idea', 'iframe', 'ignore', 'img', 'important', 'info', 'information', 'initial', 'initiative', 'inline', 'instead', 'institutional', 'interest', 'interested', 'introduce', 'issue', 'jpg', 'june', 'ketc', 'ketch', 'ketchup', 'know', 'knowledge', 'kofi', 'land', 'lasi', 'lasi19', 'last', 'laurel', 'learn', 'learning', 'level', 'li', 'library', 'life', 'like', 'limitation', 'link', 'local', 'locked', 'look', 'looking', 'love', 'make', 'manipulate', 'market', 'may', 'maybe', 'mcdonalds', 'mean', 'medium', 'meet', 'member', 'membership', 'message', 'module', 'monitoring', 'mucky', 'must', 'mustard', 'n', 'n01', 'name', 'near', 'necessarily', 'need', 'nitobe', 'nytimes', 'one', 'open', 'org', 'organise', 'organize', 'original', 'p', 'package', 'panda', 'participant', 'participate', 'pasta', 'patricia', 'peer', 'people', 'person', 'pgtype', 'phd', 'photo', 'pick', 'picked', 'picture', 'pineapple', 'pizza', 'pizzahut', 'playing', 'please', 'point', 'possible', 'post', 'posted', 'potato', 'practice', 'presenting', 'pretty', 'preview', 'previous', 'program', 'project', 'psychology', 'put', 'python', 'qlik', 'qliksense', 'qlikview', 'question', 'r', 'range', 'really', 'reasonable', 'reference', 'registration', 'related', 'reply', 'replying', 'research', 'respectful', 'respond', 'responded', 'rest', 'role', 'roll', 'runescape', 'sauder', 'savory', 'say', 'scholarship', 'school', 'science', 'seal', 'second', 'section', 'secure', 'see', 'sekiro', 'shadow', 'share', 'shortcoming', 'show', 'shut', 'skill', 'slais', 'solaresearch', 'something', 'sometimes', 'soup', 'sousa', 'space', 'span', 'spot', 'src', 'stair', 'static', 'strategist', 'struggling', 'student', 'study', 'style', 'superior', 'sure', 'surohit', 'tabl', 'tableau', 'take', 'talk', 'tandon', 'tasty', 'teaching', 'team', 'technically', 'technology', 'test', 'test1', 'testing', 'thank', 'thanks', 'think', 'thinking', 'though', 'thought', 'title', 'tomorrow', 'top', 'trigger', 'trish', 'trouble', 'try', 'u', 'ubc', 'ul', 'uncle', 'undergraduate', 'union', 'unsure', 'upstairs', 'use', 'used', 'useful', 'user', 'using', 'v', 'varao', 'versatile', 'village', 'visualization', 'want', 'war', 'wave1', 'weight', 'weird', 'well', 'white', 'wider', 'width', 'wiki', 'wikipedia', 'winnie', 'work', 'workshop', 'would', 'wrapper', 'wrong', 'www', 'yanny', 'year', 'youtu', 'youtube']\n",
      "[[0 0 0 ... 0 0 0]\n",
      " [0 0 0 ... 0 0 0]\n",
      " [0 0 0 ... 0 0 0]\n",
      " ...\n",
      " [0 0 0 ... 0 0 0]\n",
      " [0 0 0 ... 0 0 0]\n",
      " [0 0 0 ... 0 0 0]]\n"
     ]
    }
   ],
   "source": [
    "print(vectorizer.get_feature_names())\n",
    "print(X.toarray())"
   ]
  },
  {
   "cell_type": "code",
   "execution_count": 462,
   "metadata": {},
   "outputs": [],
   "source": [
    "df_words = pd.DataFrame(X.toarray(), columns=vectorizer.get_feature_names()) "
   ]
  },
  {
   "cell_type": "code",
   "execution_count": 463,
   "metadata": {},
   "outputs": [],
   "source": [
    "cols_to_drop = df_words.columns[:20]"
   ]
  },
  {
   "cell_type": "code",
   "execution_count": 464,
   "metadata": {},
   "outputs": [
    {
     "data": {
      "text/plain": [
       "Index(['03', '0jxpuir0', '1', '2', '20', '2019', '20stories', '2624', '3',\n",
       "       '30739', '315', '375', '3966206353', '400', '41894164051', '500', '560',\n",
       "       '5th', '60563', '89a2c7dd0b'],\n",
       "      dtype='object')"
      ]
     },
     "execution_count": 464,
     "metadata": {},
     "output_type": "execute_result"
    }
   ],
   "source": [
    "# Lol deleted the orignal code by accident \n",
    "cols_to_drop "
   ]
  },
  {
   "cell_type": "code",
   "execution_count": 465,
   "metadata": {},
   "outputs": [],
   "source": [
    "cols = list(cols_to_drop)+['p','li','http','href']"
   ]
  },
  {
   "cell_type": "code",
   "execution_count": 466,
   "metadata": {},
   "outputs": [],
   "source": [
    "df_words = df_words.drop(cols, axis = 1)"
   ]
  },
  {
   "cell_type": "code",
   "execution_count": 471,
   "metadata": {},
   "outputs": [
    {
     "data": {
      "text/plain": [
       "ability        0.130890\n",
       "organise       0.130890\n",
       "open           0.130890\n",
       "nytimes        0.130890\n",
       "nitobe         0.130890\n",
       "need           0.130890\n",
       "necessarily    0.130890\n",
       "near           0.130890\n",
       "organize       0.130890\n",
       "n01            0.130890\n",
       "mucky          0.130890\n",
       "monitoring     0.130890\n",
       "module         0.130890\n",
       "membership     0.130890\n",
       "member         0.130890\n",
       "meet           0.130890\n",
       "mean           0.130890\n",
       "n              0.130890\n",
       "original       0.130890\n",
       "package        0.130890\n",
       "participate    0.130890\n",
       "pretty         0.130890\n",
       "presenting     0.130890\n",
       "practice       0.130890\n",
       "posted         0.130890\n",
       "possible       0.130890\n",
       "point          0.130890\n",
       "please         0.130890\n",
       "playing        0.130890\n",
       "pizzahut       0.130890\n",
       "                 ...   \n",
       "event          0.523560\n",
       "font           0.523560\n",
       "style          0.523560\n",
       "name           0.523560\n",
       "one            0.523560\n",
       "com            0.654450\n",
       "scholarship    0.654450\n",
       "love           0.654450\n",
       "skill          0.654450\n",
       "like           0.785340\n",
       "lasi19         0.785340\n",
       "learning       0.785340\n",
       "yanny          0.785340\n",
       "hi             0.785340\n",
       "would          0.785340\n",
       "ubc            0.785340\n",
       "hackathon      0.785340\n",
       "org            0.785340\n",
       "class          0.916230\n",
       "put            0.916230\n",
       "fry            0.916230\n",
       "black          1.178010\n",
       "white          1.178010\n",
       "mustard        1.308901\n",
       "gold           1.308901\n",
       "blue           1.439791\n",
       "student        1.570681\n",
       "data           1.701571\n",
       "laurel         1.963351\n",
       "ketchup        2.094241\n",
       "Length: 411, dtype: float64"
      ]
     },
     "execution_count": 471,
     "metadata": {},
     "output_type": "execute_result"
    }
   ],
   "source": [
    "100*df_words.sum().sort_values()/df_words.sum().sort_values().sum()"
   ]
  },
  {
   "cell_type": "code",
   "execution_count": 472,
   "metadata": {},
   "outputs": [],
   "source": [
    "most_words = df_words.sum().sort_values().tail(n=20)\n",
    "most_words_headers = most_words.index"
   ]
  },
  {
   "cell_type": "code",
   "execution_count": 473,
   "metadata": {},
   "outputs": [
    {
     "data": {
      "text/plain": [
       "lasi19        6\n",
       "learning      6\n",
       "yanny         6\n",
       "hi            6\n",
       "would         6\n",
       "ubc           6\n",
       "hackathon     6\n",
       "org           6\n",
       "class         7\n",
       "put           7\n",
       "fry           7\n",
       "black         9\n",
       "white         9\n",
       "mustard      10\n",
       "gold         10\n",
       "blue         11\n",
       "student      12\n",
       "data         13\n",
       "laurel       15\n",
       "ketchup      16\n",
       "dtype: int64"
      ]
     },
     "execution_count": 473,
     "metadata": {},
     "output_type": "execute_result"
    }
   ],
   "source": [
    "most_words"
   ]
  },
  {
   "cell_type": "code",
   "execution_count": 474,
   "metadata": {},
   "outputs": [],
   "source": [
    "headers = df_words.sum().sort_values().index\n"
   ]
  },
  {
   "cell_type": "code",
   "execution_count": 475,
   "metadata": {},
   "outputs": [],
   "source": [
    "#import seaborn as sns\n",
    "#sns.heatmap(df_words.sum().sort_values())"
   ]
  },
  {
   "cell_type": "code",
   "execution_count": 476,
   "metadata": {},
   "outputs": [],
   "source": [
    "my_colors = [(x/20.0, x/25.0, 0.75) for x in range(len(most_words))]"
   ]
  },
  {
   "cell_type": "code",
   "execution_count": 477,
   "metadata": {},
   "outputs": [
    {
     "data": {
      "image/png": "[encoded data removed]",
      "text/plain": [
       "<Figure size 1152x1152 with 1 Axes>"
      ]
     },
     "metadata": {
      "needs_background": "light"
     },
     "output_type": "display_data"
    }
   ],
   "source": [
    "%matplotlib inline\n",
    "import matplotlib.pyplot as plt\n",
    "plt.figure(figsize=(16,16))\n",
    "plt.bar(x = most_words_headers, height = most_words, color = my_colors)\n",
    "plt.xticks(rotation=90);"
   ]
  },
  {
   "cell_type": "code",
   "execution_count": null,
   "metadata": {},
   "outputs": [],
   "source": []
  }
 ],
 "metadata": {
  "kernelspec": {
   "display_name": "Python 3",
   "language": "python",
   "name": "python3"
  },
  "language_info": {
   "codemirror_mode": {
    "name": "ipython",
    "version": 3
   },
   "file_extension": ".py",
   "mimetype": "text/x-python",
   "name": "python",
   "nbconvert_exporter": "python",
   "pygments_lexer": "ipython3",
   "version": "3.6.8"
  }
 },
 "nbformat": 4,
 "nbformat_minor": 2
}
